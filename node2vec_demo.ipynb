{
  "nbformat": 4,
  "nbformat_minor": 0,
  "metadata": {
    "colab": {
      "private_outputs": true,
      "provenance": [],
      "authorship_tag": "ABX9TyNBXXKEgjNJ4QV3bFum17kf",
      "include_colab_link": true
    },
    "kernelspec": {
      "name": "python3",
      "display_name": "Python 3"
    },
    "language_info": {
      "name": "python"
    }
  },
  "cells": [
    {
      "cell_type": "markdown",
      "metadata": {
        "id": "view-in-github",
        "colab_type": "text"
      },
      "source": [
        "<a href=\"https://colab.research.google.com/github/skojaku/adv-net-sci/blob/main/node2vec_demo.ipynb\" target=\"_parent\"><img src=\"https://colab.research.google.com/assets/colab-badge.svg\" alt=\"Open In Colab\"/></a>"
      ]
    },
    {
      "cell_type": "code",
      "execution_count": null,
      "metadata": {
        "id": "GsP-eoVhoy0f"
      },
      "outputs": [],
      "source": [
        "!pip install git+https://github.com/skojaku/fastnode2vec.git\n",
        "# Using pip (with plotting support)\n",
        "!pip install igraph cairocffi pycairo python-igraph"
      ]
    },
    {
      "cell_type": "code",
      "metadata": {
        "id": "65ac04f9"
      },
      "source": [
        "import gensim\n",
        "import igraph as ig\n",
        "import numpy as np\n",
        "import matplotlib.pyplot as plt\n",
        "import seaborn as sns"
      ],
      "execution_count": null,
      "outputs": []
    },
    {
      "cell_type": "code",
      "source": [
        "# Load the karate club network\n",
        "g = ig.Graph.Famous(\"Zachary\")\n",
        "A = g.get_adjacency_sparse()\n",
        "\n",
        "# Get community labels (Mr. Hi = 0, Officer = 1)\n",
        "labels = np.array([0, 0, 0, 0, 0, 0, 0, 0, 1, 1, 0, 0, 0, 0, 1, 1, 0, 0, 1, 0, 1, 0, 1, 1, 1, 1, 1, 1, 1, 1, 1, 1, 1, 1])\n",
        "g.vs[\"label\"] = labels\n",
        "\n",
        "# Visualize the network\n",
        "palette = sns.color_palette().as_hex()\n",
        "ig.plot(g, vertex_color=[palette[label] for label in labels], bbox=(300, 300))"
      ],
      "metadata": {
        "id": "YRkbg1EirVau"
      },
      "execution_count": null,
      "outputs": []
    },
    {
      "cell_type": "code",
      "source": [
        "import fastnode2vec\n",
        "\n",
        "model = fastnode2vec.Node2Vec(\n",
        "    p = 1.0,\n",
        "    q = 1.0,\n",
        "    walk_length = 100,\n",
        "    window_length= 5,\n",
        ")\n",
        "model.fit(A)\n",
        "emb = model.transform(dim=64)\n"
      ],
      "metadata": {
        "id": "h44XFoKOpO_E"
      },
      "execution_count": null,
      "outputs": []
    },
    {
      "cell_type": "code",
      "source": [
        "emb"
      ],
      "metadata": {
        "id": "l6CWUILjpYPk"
      },
      "execution_count": null,
      "outputs": []
    },
    {
      "cell_type": "code",
      "source": [
        "from sklearn.decomposition import PCA\n",
        "pca = PCA(n_components=2)\n",
        "xy = pca.fit_transform(emb)\n",
        "\n",
        "sns.set_style(\"white\")\n",
        "fig, ax = plt.subplots(figsize=(5,5))\n",
        "ax = sns.scatterplot(x=xy[:,0], y=xy[:,1], s = 100, hue = labels)\n",
        "ax.set_xticks([])\n",
        "ax.set_yticks([])\n",
        "sns.despine()"
      ],
      "metadata": {
        "id": "tVBMO0SjqHim"
      },
      "execution_count": null,
      "outputs": []
    },
    {
      "cell_type": "code",
      "source": [
        "from sklearn.cluster import KMeans\n",
        "\n",
        "kmeans = KMeans(n_clusters=3, random_state=0).fit(emb)\n",
        "detected_labels = kmeans.labels_\n",
        "\n",
        "\n",
        "# Visualize the network\n",
        "palette = sns.color_palette().as_hex()\n",
        "ig.plot(g, vertex_color=[palette[label] for label in detected_labels], vertex_label = list(labels), bbox=(300, 300))"
      ],
      "metadata": {
        "id": "L78HaB9kqt8j"
      },
      "execution_count": null,
      "outputs": []
    },
    {
      "cell_type": "code",
      "source": [
        "import networkx as nx\n",
        "h = ig.Graph.from_networkx(nx.les_miserables_graph())\n",
        "A_lesmis = h.get_adjacency_sparse()\n",
        "\n",
        "model = fastnode2vec.Node2Vec(\n",
        "    p = 1.0,\n",
        "    q = 0.1,\n",
        "    walk_length = 300,\n",
        "    window_length= 10,\n",
        ")\n",
        "model.fit(A_lesmis)\n",
        "emb = model.transform(dim=16)\n",
        "\n",
        "from sklearn.cluster import KMeans\n",
        "\n",
        "kmeans = KMeans(n_clusters=4, random_state=0).fit(emb)\n",
        "detected_labels = kmeans.labels_\n",
        "\n",
        "\n",
        "# Visualize the network\n",
        "palette = sns.color_palette().as_hex()\n",
        "ig.plot(h, vertex_color=[palette[label] for label in detected_labels], bbox=(500, 500))"
      ],
      "metadata": {
        "id": "HiSPRxVgsQWA"
      },
      "execution_count": null,
      "outputs": []
    }
  ]
}