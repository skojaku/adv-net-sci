{
 "cells": [
  {
   "cell_type": "markdown",
   "id": "44620ea9",
   "metadata": {},
   "source": [
    "<a target=\"_blank\" href=\"https://colab.research.google.com/github/skojaku/adv-net-sci/blob/main/notebooks/m05-clustering/exercise-m05-clustering.ipynb\">\n",
    "  <img src=\"https://colab.research.google.com/assets/colab-badge.svg\" alt=\"Open In Colab\"/>\n",
    "</a>\n",
    "\n",
    "# Hands-on: Clustering"
   ]
  },
  {
   "cell_type": "code",
   "execution_count": 1,
   "id": "9663f75a",
   "metadata": {},
   "outputs": [],
   "source": [
    "# If you are using Google Colab, uncomment the following line to install igraph\n",
    "#!sudo apt install libcairo2-dev pkg-config python3-dev\n",
    "#!pip install pycairo cairocffi\n",
    "#!pip install igraph"
   ]
  },
  {
   "cell_type": "markdown",
   "id": "427b70bf",
   "metadata": {},
   "source": [
    "## Modularity maximization\n",
    "\n",
    "Let us showcase how to use `igraph` to detect communities with modularity. We will use the Karate Club Network as an example."
   ]
  },
  {
   "cell_type": "code",
   "execution_count": null,
   "id": "d2865c5a",
   "metadata": {},
   "outputs": [
    {
     "data": {
      "image/svg+xml": [
       "<?xml version=\"1.0\" encoding=\"UTF-8\"?>\n",
       "<svg xmlns=\"http://www.w3.org/2000/svg\" xmlns:xlink=\"http://www.w3.org/1999/xlink\" width=\"600pt\" height=\"600pt\" viewBox=\"0 0 600 600\" version=\"1.1\">\n",
       "<g id=\"surface2\">\n",
       "<rect x=\"0\" y=\"0\" width=\"600\" height=\"600\" style=\"fill:rgb(100%,100%,100%);fill-opacity:1;stroke:none;\"/>\n",
       "<path style=\"fill:none;stroke-width:1;stroke-linecap:butt;stroke-linejoin:miter;stroke:rgb(26.666667%,26.666667%,26.666667%);stroke-opacity:1;stroke-miterlimit:10;\" d=\"M 268.234375 380.121094 L 167.3125 348.042969 \"/>\n",
       "<path style=\"fill:none;stroke-width:1;stroke-linecap:butt;stroke-linejoin:miter;stroke:rgb(26.666667%,26.666667%,26.666667%);stroke-opacity:1;stroke-miterlimit:10;\" d=\"M 268.234375 380.121094 L 306.316406 270.535156 \"/>\n",
       "<path style=\"fill:none;stroke-width:1;stroke-linecap:butt;stroke-linejoin:miter;stroke:rgb(26.666667%,26.666667%,26.666667%);stroke-opacity:1;stroke-miterlimit:10;\" d=\"M 268.234375 380.121094 L 308.523438 354.417969 \"/>\n",
       "<path style=\"fill:none;stroke-width:1;stroke-linecap:butt;stroke-linejoin:miter;stroke:rgb(26.666667%,26.666667%,26.666667%);stroke-opacity:1;stroke-miterlimit:10;\" d=\"M 268.234375 380.121094 L 493.1875 411.027344 \"/>\n",
       "<path style=\"fill:none;stroke-width:1;stroke-linecap:butt;stroke-linejoin:miter;stroke:rgb(26.666667%,26.666667%,26.666667%);stroke-opacity:1;stroke-miterlimit:10;\" d=\"M 268.234375 380.121094 L 319.867188 497.75 \"/>\n",
       "<path style=\"fill:none;stroke-width:1;stroke-linecap:butt;stroke-linejoin:miter;stroke:rgb(26.666667%,26.666667%,26.666667%);stroke-opacity:1;stroke-miterlimit:10;\" d=\"M 268.234375 380.121094 L 416.589844 475.585938 \"/>\n",
       "<path style=\"fill:none;stroke-width:1;stroke-linecap:butt;stroke-linejoin:miter;stroke:rgb(26.666667%,26.666667%,26.666667%);stroke-opacity:1;stroke-miterlimit:10;\" d=\"M 268.234375 380.121094 L 397.800781 345.332031 \"/>\n",
       "<path style=\"fill:none;stroke-width:1;stroke-linecap:butt;stroke-linejoin:miter;stroke:rgb(26.666667%,26.666667%,26.666667%);stroke-opacity:1;stroke-miterlimit:10;\" d=\"M 268.234375 380.121094 L 179.035156 260.472656 \"/>\n",
       "<path style=\"fill:none;stroke-width:1;stroke-linecap:butt;stroke-linejoin:miter;stroke:rgb(26.666667%,26.666667%,26.666667%);stroke-opacity:1;stroke-miterlimit:10;\" d=\"M 268.234375 380.121094 L 410.246094 442.617188 \"/>\n",
       "<path style=\"fill:none;stroke-width:1;stroke-linecap:butt;stroke-linejoin:miter;stroke:rgb(26.666667%,26.666667%,26.666667%);stroke-opacity:1;stroke-miterlimit:10;\" d=\"M 268.234375 380.121094 L 152.472656 482.945312 \"/>\n",
       "<path style=\"fill:none;stroke-width:1;stroke-linecap:butt;stroke-linejoin:miter;stroke:rgb(26.666667%,26.666667%,26.666667%);stroke-opacity:1;stroke-miterlimit:10;\" d=\"M 268.234375 380.121094 L 237.789062 466.75 \"/>\n",
       "<path style=\"fill:none;stroke-width:1;stroke-linecap:butt;stroke-linejoin:miter;stroke:rgb(26.666667%,26.666667%,26.666667%);stroke-opacity:1;stroke-miterlimit:10;\" d=\"M 268.234375 380.121094 L 218.40625 284.226562 \"/>\n",
       "<path style=\"fill:none;stroke-width:1;stroke-linecap:butt;stroke-linejoin:miter;stroke:rgb(26.666667%,26.666667%,26.666667%);stroke-opacity:1;stroke-miterlimit:10;\" d=\"M 268.234375 380.121094 L 55.621094 407.054688 \"/>\n",
       "<path style=\"fill:none;stroke-width:1;stroke-linecap:butt;stroke-linejoin:miter;stroke:rgb(26.666667%,26.666667%,26.666667%);stroke-opacity:1;stroke-miterlimit:10;\" d=\"M 268.234375 380.121094 L 122.023438 284.070312 \"/>\n",
       "<path style=\"fill:none;stroke-width:1;stroke-linecap:butt;stroke-linejoin:miter;stroke:rgb(26.666667%,26.666667%,26.666667%);stroke-opacity:1;stroke-miterlimit:10;\" d=\"M 268.234375 380.121094 L 101.621094 436.207031 \"/>\n",
       "<path style=\"fill:none;stroke-width:1;stroke-linecap:butt;stroke-linejoin:miter;stroke:rgb(26.666667%,26.666667%,26.666667%);stroke-opacity:1;stroke-miterlimit:10;\" d=\"M 268.234375 380.121094 L 377.363281 251.421875 \"/>\n",
       "<path style=\"fill:none;stroke-width:1;stroke-linecap:butt;stroke-linejoin:miter;stroke:rgb(26.666667%,26.666667%,26.666667%);stroke-opacity:1;stroke-miterlimit:10;\" d=\"M 167.3125 348.042969 L 306.316406 270.535156 \"/>\n",
       "<path style=\"fill:none;stroke-width:1;stroke-linecap:butt;stroke-linejoin:miter;stroke:rgb(26.666667%,26.666667%,26.666667%);stroke-opacity:1;stroke-miterlimit:10;\" d=\"M 167.3125 348.042969 L 308.523438 354.417969 \"/>\n",
       "<path style=\"fill:none;stroke-width:1;stroke-linecap:butt;stroke-linejoin:miter;stroke:rgb(26.666667%,26.666667%,26.666667%);stroke-opacity:1;stroke-miterlimit:10;\" d=\"M 167.3125 348.042969 L 397.800781 345.332031 \"/>\n",
       "<path style=\"fill:none;stroke-width:1;stroke-linecap:butt;stroke-linejoin:miter;stroke:rgb(26.666667%,26.666667%,26.666667%);stroke-opacity:1;stroke-miterlimit:10;\" d=\"M 167.3125 348.042969 L 218.40625 284.226562 \"/>\n",
       "<path style=\"fill:none;stroke-width:1;stroke-linecap:butt;stroke-linejoin:miter;stroke:rgb(26.666667%,26.666667%,26.666667%);stroke-opacity:1;stroke-miterlimit:10;\" d=\"M 167.3125 348.042969 L 55.621094 407.054688 \"/>\n",
       "<path style=\"fill:none;stroke-width:1;stroke-linecap:butt;stroke-linejoin:miter;stroke:rgb(26.666667%,26.666667%,26.666667%);stroke-opacity:1;stroke-miterlimit:10;\" d=\"M 167.3125 348.042969 L 122.023438 284.070312 \"/>\n",
       "<path style=\"fill:none;stroke-width:1;stroke-linecap:butt;stroke-linejoin:miter;stroke:rgb(26.666667%,26.666667%,26.666667%);stroke-opacity:1;stroke-miterlimit:10;\" d=\"M 167.3125 348.042969 L 101.621094 436.207031 \"/>\n",
       "<path style=\"fill:none;stroke-width:1;stroke-linecap:butt;stroke-linejoin:miter;stroke:rgb(26.666667%,26.666667%,26.666667%);stroke-opacity:1;stroke-miterlimit:10;\" d=\"M 167.3125 348.042969 L 70.679688 230.246094 \"/>\n",
       "<path style=\"fill:none;stroke-width:1;stroke-linecap:butt;stroke-linejoin:miter;stroke:rgb(26.666667%,26.666667%,26.666667%);stroke-opacity:1;stroke-miterlimit:10;\" d=\"M 306.316406 270.535156 L 308.523438 354.417969 \"/>\n",
       "<path style=\"fill:none;stroke-width:1;stroke-linecap:butt;stroke-linejoin:miter;stroke:rgb(26.666667%,26.666667%,26.666667%);stroke-opacity:1;stroke-miterlimit:10;\" d=\"M 306.316406 270.535156 L 397.800781 345.332031 \"/>\n",
       "<path style=\"fill:none;stroke-width:1;stroke-linecap:butt;stroke-linejoin:miter;stroke:rgb(26.666667%,26.666667%,26.666667%);stroke-opacity:1;stroke-miterlimit:10;\" d=\"M 306.316406 270.535156 L 429.644531 182.421875 \"/>\n",
       "<path style=\"fill:none;stroke-width:1;stroke-linecap:butt;stroke-linejoin:miter;stroke:rgb(26.666667%,26.666667%,26.666667%);stroke-opacity:1;stroke-miterlimit:10;\" d=\"M 306.316406 270.535156 L 377.964844 179.179688 \"/>\n",
       "<path style=\"fill:none;stroke-width:1;stroke-linecap:butt;stroke-linejoin:miter;stroke:rgb(26.666667%,26.666667%,26.666667%);stroke-opacity:1;stroke-miterlimit:10;\" d=\"M 306.316406 270.535156 L 191.835938 162.421875 \"/>\n",
       "<path style=\"fill:none;stroke-width:1;stroke-linecap:butt;stroke-linejoin:miter;stroke:rgb(26.666667%,26.666667%,26.666667%);stroke-opacity:1;stroke-miterlimit:10;\" d=\"M 306.316406 270.535156 L 317.847656 177.304688 \"/>\n",
       "<path style=\"fill:none;stroke-width:1;stroke-linecap:butt;stroke-linejoin:miter;stroke:rgb(26.666667%,26.666667%,26.666667%);stroke-opacity:1;stroke-miterlimit:10;\" d=\"M 306.316406 270.535156 L 179.035156 260.472656 \"/>\n",
       "<path style=\"fill:none;stroke-width:1;stroke-linecap:butt;stroke-linejoin:miter;stroke:rgb(26.666667%,26.666667%,26.666667%);stroke-opacity:1;stroke-miterlimit:10;\" d=\"M 306.316406 270.535156 L 218.40625 284.226562 \"/>\n",
       "<path style=\"fill:none;stroke-width:1;stroke-linecap:butt;stroke-linejoin:miter;stroke:rgb(26.666667%,26.666667%,26.666667%);stroke-opacity:1;stroke-miterlimit:10;\" d=\"M 308.523438 354.417969 L 397.800781 345.332031 \"/>\n",
       "<path style=\"fill:none;stroke-width:1;stroke-linecap:butt;stroke-linejoin:miter;stroke:rgb(26.666667%,26.666667%,26.666667%);stroke-opacity:1;stroke-miterlimit:10;\" d=\"M 308.523438 354.417969 L 237.789062 466.75 \"/>\n",
       "<path style=\"fill:none;stroke-width:1;stroke-linecap:butt;stroke-linejoin:miter;stroke:rgb(26.666667%,26.666667%,26.666667%);stroke-opacity:1;stroke-miterlimit:10;\" d=\"M 308.523438 354.417969 L 218.40625 284.226562 \"/>\n",
       "<path style=\"fill:none;stroke-width:1;stroke-linecap:butt;stroke-linejoin:miter;stroke:rgb(26.666667%,26.666667%,26.666667%);stroke-opacity:1;stroke-miterlimit:10;\" d=\"M 493.1875 411.027344 L 416.589844 475.585938 \"/>\n",
       "<path style=\"fill:none;stroke-width:1;stroke-linecap:butt;stroke-linejoin:miter;stroke:rgb(26.666667%,26.666667%,26.666667%);stroke-opacity:1;stroke-miterlimit:10;\" d=\"M 493.1875 411.027344 L 410.246094 442.617188 \"/>\n",
       "<path style=\"fill:none;stroke-width:1;stroke-linecap:butt;stroke-linejoin:miter;stroke:rgb(26.666667%,26.666667%,26.666667%);stroke-opacity:1;stroke-miterlimit:10;\" d=\"M 319.867188 497.75 L 416.589844 475.585938 \"/>\n",
       "<path style=\"fill:none;stroke-width:1;stroke-linecap:butt;stroke-linejoin:miter;stroke:rgb(26.666667%,26.666667%,26.666667%);stroke-opacity:1;stroke-miterlimit:10;\" d=\"M 319.867188 497.75 L 410.246094 442.617188 \"/>\n",
       "<path style=\"fill:none;stroke-width:1;stroke-linecap:butt;stroke-linejoin:miter;stroke:rgb(26.666667%,26.666667%,26.666667%);stroke-opacity:1;stroke-miterlimit:10;\" d=\"M 319.867188 497.75 L 446.917969 580 \"/>\n",
       "<path style=\"fill:none;stroke-width:1;stroke-linecap:butt;stroke-linejoin:miter;stroke:rgb(26.666667%,26.666667%,26.666667%);stroke-opacity:1;stroke-miterlimit:10;\" d=\"M 416.589844 475.585938 L 446.917969 580 \"/>\n",
       "<path style=\"fill:none;stroke-width:1;stroke-linecap:butt;stroke-linejoin:miter;stroke:rgb(26.666667%,26.666667%,26.666667%);stroke-opacity:1;stroke-miterlimit:10;\" d=\"M 179.035156 260.472656 L 70.679688 230.246094 \"/>\n",
       "<path style=\"fill:none;stroke-width:1;stroke-linecap:butt;stroke-linejoin:miter;stroke:rgb(26.666667%,26.666667%,26.666667%);stroke-opacity:1;stroke-miterlimit:10;\" d=\"M 179.035156 260.472656 L 191.835938 162.421875 \"/>\n",
       "<path style=\"fill:none;stroke-width:1;stroke-linecap:butt;stroke-linejoin:miter;stroke:rgb(26.666667%,26.666667%,26.666667%);stroke-opacity:1;stroke-miterlimit:10;\" d=\"M 179.035156 260.472656 L 230.492188 155.398438 \"/>\n",
       "<path style=\"fill:none;stroke-width:1;stroke-linecap:butt;stroke-linejoin:miter;stroke:rgb(26.666667%,26.666667%,26.666667%);stroke-opacity:1;stroke-miterlimit:10;\" d=\"M 317.847656 177.304688 L 230.492188 155.398438 \"/>\n",
       "<path style=\"fill:none;stroke-width:1;stroke-linecap:butt;stroke-linejoin:miter;stroke:rgb(26.666667%,26.666667%,26.666667%);stroke-opacity:1;stroke-miterlimit:10;\" d=\"M 218.40625 284.226562 L 230.492188 155.398438 \"/>\n",
       "<path style=\"fill:none;stroke-width:1;stroke-linecap:butt;stroke-linejoin:miter;stroke:rgb(26.666667%,26.666667%,26.666667%);stroke-opacity:1;stroke-miterlimit:10;\" d=\"M 141.710938 59.867188 L 191.835938 162.421875 \"/>\n",
       "<path style=\"fill:none;stroke-width:1;stroke-linecap:butt;stroke-linejoin:miter;stroke:rgb(26.666667%,26.666667%,26.666667%);stroke-opacity:1;stroke-miterlimit:10;\" d=\"M 141.710938 59.867188 L 230.492188 155.398438 \"/>\n",
       "<path style=\"fill:none;stroke-width:1;stroke-linecap:butt;stroke-linejoin:miter;stroke:rgb(26.666667%,26.666667%,26.666667%);stroke-opacity:1;stroke-miterlimit:10;\" d=\"M 43.128906 116.257812 L 191.835938 162.421875 \"/>\n",
       "<path style=\"fill:none;stroke-width:1;stroke-linecap:butt;stroke-linejoin:miter;stroke:rgb(26.666667%,26.666667%,26.666667%);stroke-opacity:1;stroke-miterlimit:10;\" d=\"M 43.128906 116.257812 L 230.492188 155.398438 \"/>\n",
       "<path style=\"fill:none;stroke-width:1;stroke-linecap:butt;stroke-linejoin:miter;stroke:rgb(26.666667%,26.666667%,26.666667%);stroke-opacity:1;stroke-miterlimit:10;\" d=\"M 20 153.472656 L 191.835938 162.421875 \"/>\n",
       "<path style=\"fill:none;stroke-width:1;stroke-linecap:butt;stroke-linejoin:miter;stroke:rgb(26.666667%,26.666667%,26.666667%);stroke-opacity:1;stroke-miterlimit:10;\" d=\"M 20 153.472656 L 230.492188 155.398438 \"/>\n",
       "<path style=\"fill:none;stroke-width:1;stroke-linecap:butt;stroke-linejoin:miter;stroke:rgb(26.666667%,26.666667%,26.666667%);stroke-opacity:1;stroke-miterlimit:10;\" d=\"M 122.023438 284.070312 L 230.492188 155.398438 \"/>\n",
       "<path style=\"fill:none;stroke-width:1;stroke-linecap:butt;stroke-linejoin:miter;stroke:rgb(26.666667%,26.666667%,26.666667%);stroke-opacity:1;stroke-miterlimit:10;\" d=\"M 84.390625 83.648438 L 191.835938 162.421875 \"/>\n",
       "<path style=\"fill:none;stroke-width:1;stroke-linecap:butt;stroke-linejoin:miter;stroke:rgb(26.666667%,26.666667%,26.666667%);stroke-opacity:1;stroke-miterlimit:10;\" d=\"M 84.390625 83.648438 L 230.492188 155.398438 \"/>\n",
       "<path style=\"fill:none;stroke-width:1;stroke-linecap:butt;stroke-linejoin:miter;stroke:rgb(26.666667%,26.666667%,26.666667%);stroke-opacity:1;stroke-miterlimit:10;\" d=\"M 213.492188 54.59375 L 191.835938 162.421875 \"/>\n",
       "<path style=\"fill:none;stroke-width:1;stroke-linecap:butt;stroke-linejoin:miter;stroke:rgb(26.666667%,26.666667%,26.666667%);stroke-opacity:1;stroke-miterlimit:10;\" d=\"M 213.492188 54.59375 L 230.492188 155.398438 \"/>\n",
       "<path style=\"fill:none;stroke-width:1;stroke-linecap:butt;stroke-linejoin:miter;stroke:rgb(26.666667%,26.666667%,26.666667%);stroke-opacity:1;stroke-miterlimit:10;\" d=\"M 414.417969 106.957031 L 564.140625 228.570312 \"/>\n",
       "<path style=\"fill:none;stroke-width:1;stroke-linecap:butt;stroke-linejoin:miter;stroke:rgb(26.666667%,26.666667%,26.666667%);stroke-opacity:1;stroke-miterlimit:10;\" d=\"M 414.417969 106.957031 L 429.644531 182.421875 \"/>\n",
       "<path style=\"fill:none;stroke-width:1;stroke-linecap:butt;stroke-linejoin:miter;stroke:rgb(26.666667%,26.666667%,26.666667%);stroke-opacity:1;stroke-miterlimit:10;\" d=\"M 414.417969 106.957031 L 191.835938 162.421875 \"/>\n",
       "<path style=\"fill:none;stroke-width:1;stroke-linecap:butt;stroke-linejoin:miter;stroke:rgb(26.666667%,26.666667%,26.666667%);stroke-opacity:1;stroke-miterlimit:10;\" d=\"M 414.417969 106.957031 L 230.492188 155.398438 \"/>\n",
       "<path style=\"fill:none;stroke-width:1;stroke-linecap:butt;stroke-linejoin:miter;stroke:rgb(26.666667%,26.666667%,26.666667%);stroke-opacity:1;stroke-miterlimit:10;\" d=\"M 414.417969 106.957031 L 331.359375 68.214844 \"/>\n",
       "<path style=\"fill:none;stroke-width:1;stroke-linecap:butt;stroke-linejoin:miter;stroke:rgb(26.666667%,26.666667%,26.666667%);stroke-opacity:1;stroke-miterlimit:10;\" d=\"M 580 186.261719 L 564.140625 228.570312 \"/>\n",
       "<path style=\"fill:none;stroke-width:1;stroke-linecap:butt;stroke-linejoin:miter;stroke:rgb(26.666667%,26.666667%,26.666667%);stroke-opacity:1;stroke-miterlimit:10;\" d=\"M 580 186.261719 L 429.644531 182.421875 \"/>\n",
       "<path style=\"fill:none;stroke-width:1;stroke-linecap:butt;stroke-linejoin:miter;stroke:rgb(26.666667%,26.666667%,26.666667%);stroke-opacity:1;stroke-miterlimit:10;\" d=\"M 580 186.261719 L 377.363281 251.421875 \"/>\n",
       "<path style=\"fill:none;stroke-width:1;stroke-linecap:butt;stroke-linejoin:miter;stroke:rgb(26.666667%,26.666667%,26.666667%);stroke-opacity:1;stroke-miterlimit:10;\" d=\"M 564.140625 228.570312 L 377.363281 251.421875 \"/>\n",
       "<path style=\"fill:none;stroke-width:1;stroke-linecap:butt;stroke-linejoin:miter;stroke:rgb(26.666667%,26.666667%,26.666667%);stroke-opacity:1;stroke-miterlimit:10;\" d=\"M 277.054688 20 L 331.359375 68.214844 \"/>\n",
       "<path style=\"fill:none;stroke-width:1;stroke-linecap:butt;stroke-linejoin:miter;stroke:rgb(26.666667%,26.666667%,26.666667%);stroke-opacity:1;stroke-miterlimit:10;\" d=\"M 277.054688 20 L 230.492188 155.398438 \"/>\n",
       "<path style=\"fill:none;stroke-width:1;stroke-linecap:butt;stroke-linejoin:miter;stroke:rgb(26.666667%,26.666667%,26.666667%);stroke-opacity:1;stroke-miterlimit:10;\" d=\"M 429.644531 182.421875 L 230.492188 155.398438 \"/>\n",
       "<path style=\"fill:none;stroke-width:1;stroke-linecap:butt;stroke-linejoin:miter;stroke:rgb(26.666667%,26.666667%,26.666667%);stroke-opacity:1;stroke-miterlimit:10;\" d=\"M 377.964844 179.179688 L 377.363281 251.421875 \"/>\n",
       "<path style=\"fill:none;stroke-width:1;stroke-linecap:butt;stroke-linejoin:miter;stroke:rgb(26.666667%,26.666667%,26.666667%);stroke-opacity:1;stroke-miterlimit:10;\" d=\"M 377.964844 179.179688 L 230.492188 155.398438 \"/>\n",
       "<path style=\"fill:none;stroke-width:1;stroke-linecap:butt;stroke-linejoin:miter;stroke:rgb(26.666667%,26.666667%,26.666667%);stroke-opacity:1;stroke-miterlimit:10;\" d=\"M 331.359375 68.214844 L 191.835938 162.421875 \"/>\n",
       "<path style=\"fill:none;stroke-width:1;stroke-linecap:butt;stroke-linejoin:miter;stroke:rgb(26.666667%,26.666667%,26.666667%);stroke-opacity:1;stroke-miterlimit:10;\" d=\"M 331.359375 68.214844 L 230.492188 155.398438 \"/>\n",
       "<path style=\"fill:none;stroke-width:1;stroke-linecap:butt;stroke-linejoin:miter;stroke:rgb(26.666667%,26.666667%,26.666667%);stroke-opacity:1;stroke-miterlimit:10;\" d=\"M 70.679688 230.246094 L 191.835938 162.421875 \"/>\n",
       "<path style=\"fill:none;stroke-width:1;stroke-linecap:butt;stroke-linejoin:miter;stroke:rgb(26.666667%,26.666667%,26.666667%);stroke-opacity:1;stroke-miterlimit:10;\" d=\"M 70.679688 230.246094 L 230.492188 155.398438 \"/>\n",
       "<path style=\"fill:none;stroke-width:1;stroke-linecap:butt;stroke-linejoin:miter;stroke:rgb(26.666667%,26.666667%,26.666667%);stroke-opacity:1;stroke-miterlimit:10;\" d=\"M 377.363281 251.421875 L 191.835938 162.421875 \"/>\n",
       "<path style=\"fill:none;stroke-width:1;stroke-linecap:butt;stroke-linejoin:miter;stroke:rgb(26.666667%,26.666667%,26.666667%);stroke-opacity:1;stroke-miterlimit:10;\" d=\"M 377.363281 251.421875 L 230.492188 155.398438 \"/>\n",
       "<path style=\"fill:none;stroke-width:1;stroke-linecap:butt;stroke-linejoin:miter;stroke:rgb(26.666667%,26.666667%,26.666667%);stroke-opacity:1;stroke-miterlimit:10;\" d=\"M 191.835938 162.421875 L 230.492188 155.398438 \"/>\n",
       "<path style=\"fill-rule:nonzero;fill:rgb(100%,0%,0%);fill-opacity:1;stroke-width:1;stroke-linecap:butt;stroke-linejoin:miter;stroke:rgb(0%,0%,0%);stroke-opacity:1;stroke-miterlimit:10;\" d=\"M 278.234375 380.121094 C 278.234375 385.644531 273.757812 390.121094 268.234375 390.121094 C 262.710938 390.121094 258.234375 385.644531 258.234375 380.121094 C 258.234375 374.601562 262.710938 370.121094 268.234375 370.121094 C 273.757812 370.121094 278.234375 374.601562 278.234375 380.121094 \"/>\n",
       "<path style=\"fill-rule:nonzero;fill:rgb(100%,0%,0%);fill-opacity:1;stroke-width:1;stroke-linecap:butt;stroke-linejoin:miter;stroke:rgb(0%,0%,0%);stroke-opacity:1;stroke-miterlimit:10;\" d=\"M 177.3125 348.042969 C 177.3125 353.566406 172.835938 358.042969 167.3125 358.042969 C 161.789062 358.042969 157.3125 353.566406 157.3125 348.042969 C 157.3125 342.519531 161.789062 338.042969 167.3125 338.042969 C 172.835938 338.042969 177.3125 342.519531 177.3125 348.042969 \"/>\n",
       "<path style=\"fill-rule:nonzero;fill:rgb(100%,0%,0%);fill-opacity:1;stroke-width:1;stroke-linecap:butt;stroke-linejoin:miter;stroke:rgb(0%,0%,0%);stroke-opacity:1;stroke-miterlimit:10;\" d=\"M 316.316406 270.535156 C 316.316406 276.058594 311.839844 280.535156 306.316406 280.535156 C 300.792969 280.535156 296.316406 276.058594 296.316406 270.535156 C 296.316406 265.015625 300.792969 260.535156 306.316406 260.535156 C 311.839844 260.535156 316.316406 265.015625 316.316406 270.535156 \"/>\n",
       "<path style=\"fill-rule:nonzero;fill:rgb(100%,0%,0%);fill-opacity:1;stroke-width:1;stroke-linecap:butt;stroke-linejoin:miter;stroke:rgb(0%,0%,0%);stroke-opacity:1;stroke-miterlimit:10;\" d=\"M 318.523438 354.417969 C 318.523438 359.941406 314.046875 364.417969 308.523438 364.417969 C 303.003906 364.417969 298.523438 359.941406 298.523438 354.417969 C 298.523438 348.898438 303.003906 344.417969 308.523438 344.417969 C 314.046875 344.417969 318.523438 348.898438 318.523438 354.417969 \"/>\n",
       "<path style=\"fill-rule:nonzero;fill:rgb(100%,0%,0%);fill-opacity:1;stroke-width:1;stroke-linecap:butt;stroke-linejoin:miter;stroke:rgb(0%,0%,0%);stroke-opacity:1;stroke-miterlimit:10;\" d=\"M 503.1875 411.027344 C 503.1875 416.550781 498.707031 421.027344 493.1875 421.027344 C 487.664062 421.027344 483.1875 416.550781 483.1875 411.027344 C 483.1875 405.503906 487.664062 401.027344 493.1875 401.027344 C 498.707031 401.027344 503.1875 405.503906 503.1875 411.027344 \"/>\n",
       "<path style=\"fill-rule:nonzero;fill:rgb(100%,0%,0%);fill-opacity:1;stroke-width:1;stroke-linecap:butt;stroke-linejoin:miter;stroke:rgb(0%,0%,0%);stroke-opacity:1;stroke-miterlimit:10;\" d=\"M 329.867188 497.75 C 329.867188 503.273438 325.390625 507.75 319.867188 507.75 C 314.34375 507.75 309.867188 503.273438 309.867188 497.75 C 309.867188 492.226562 314.34375 487.75 319.867188 487.75 C 325.390625 487.75 329.867188 492.226562 329.867188 497.75 \"/>\n",
       "<path style=\"fill-rule:nonzero;fill:rgb(100%,0%,0%);fill-opacity:1;stroke-width:1;stroke-linecap:butt;stroke-linejoin:miter;stroke:rgb(0%,0%,0%);stroke-opacity:1;stroke-miterlimit:10;\" d=\"M 426.589844 475.585938 C 426.589844 481.109375 422.113281 485.585938 416.589844 485.585938 C 411.066406 485.585938 406.589844 481.109375 406.589844 475.585938 C 406.589844 470.0625 411.066406 465.585938 416.589844 465.585938 C 422.113281 465.585938 426.589844 470.0625 426.589844 475.585938 \"/>\n",
       "<path style=\"fill-rule:nonzero;fill:rgb(100%,0%,0%);fill-opacity:1;stroke-width:1;stroke-linecap:butt;stroke-linejoin:miter;stroke:rgb(0%,0%,0%);stroke-opacity:1;stroke-miterlimit:10;\" d=\"M 407.800781 345.332031 C 407.800781 350.855469 403.324219 355.332031 397.800781 355.332031 C 392.277344 355.332031 387.800781 350.855469 387.800781 345.332031 C 387.800781 339.808594 392.277344 335.332031 397.800781 335.332031 C 403.324219 335.332031 407.800781 339.808594 407.800781 345.332031 \"/>\n",
       "<path style=\"fill-rule:nonzero;fill:rgb(100%,0%,0%);fill-opacity:1;stroke-width:1;stroke-linecap:butt;stroke-linejoin:miter;stroke:rgb(0%,0%,0%);stroke-opacity:1;stroke-miterlimit:10;\" d=\"M 189.035156 260.472656 C 189.035156 265.996094 184.558594 270.472656 179.035156 270.472656 C 173.511719 270.472656 169.035156 265.996094 169.035156 260.472656 C 169.035156 254.949219 173.511719 250.472656 179.035156 250.472656 C 184.558594 250.472656 189.035156 254.949219 189.035156 260.472656 \"/>\n",
       "<path style=\"fill-rule:nonzero;fill:rgb(100%,0%,0%);fill-opacity:1;stroke-width:1;stroke-linecap:butt;stroke-linejoin:miter;stroke:rgb(0%,0%,0%);stroke-opacity:1;stroke-miterlimit:10;\" d=\"M 327.847656 177.304688 C 327.847656 182.828125 323.371094 187.304688 317.847656 187.304688 C 312.324219 187.304688 307.847656 182.828125 307.847656 177.304688 C 307.847656 171.785156 312.324219 167.304688 317.847656 167.304688 C 323.371094 167.304688 327.847656 171.785156 327.847656 177.304688 \"/>\n",
       "<path style=\"fill-rule:nonzero;fill:rgb(100%,0%,0%);fill-opacity:1;stroke-width:1;stroke-linecap:butt;stroke-linejoin:miter;stroke:rgb(0%,0%,0%);stroke-opacity:1;stroke-miterlimit:10;\" d=\"M 420.246094 442.617188 C 420.246094 448.140625 415.769531 452.617188 410.246094 452.617188 C 404.722656 452.617188 400.246094 448.140625 400.246094 442.617188 C 400.246094 437.097656 404.722656 432.617188 410.246094 432.617188 C 415.769531 432.617188 420.246094 437.097656 420.246094 442.617188 \"/>\n",
       "<path style=\"fill-rule:nonzero;fill:rgb(100%,0%,0%);fill-opacity:1;stroke-width:1;stroke-linecap:butt;stroke-linejoin:miter;stroke:rgb(0%,0%,0%);stroke-opacity:1;stroke-miterlimit:10;\" d=\"M 162.472656 482.945312 C 162.472656 488.464844 157.996094 492.945312 152.472656 492.945312 C 146.953125 492.945312 142.472656 488.464844 142.472656 482.945312 C 142.472656 477.421875 146.953125 472.945312 152.472656 472.945312 C 157.996094 472.945312 162.472656 477.421875 162.472656 482.945312 \"/>\n",
       "<path style=\"fill-rule:nonzero;fill:rgb(100%,0%,0%);fill-opacity:1;stroke-width:1;stroke-linecap:butt;stroke-linejoin:miter;stroke:rgb(0%,0%,0%);stroke-opacity:1;stroke-miterlimit:10;\" d=\"M 247.789062 466.75 C 247.789062 472.273438 243.3125 476.75 237.789062 476.75 C 232.265625 476.75 227.789062 472.273438 227.789062 466.75 C 227.789062 461.226562 232.265625 456.75 237.789062 456.75 C 243.3125 456.75 247.789062 461.226562 247.789062 466.75 \"/>\n",
       "<path style=\"fill-rule:nonzero;fill:rgb(100%,0%,0%);fill-opacity:1;stroke-width:1;stroke-linecap:butt;stroke-linejoin:miter;stroke:rgb(0%,0%,0%);stroke-opacity:1;stroke-miterlimit:10;\" d=\"M 228.40625 284.226562 C 228.40625 289.75 223.929688 294.226562 218.40625 294.226562 C 212.882812 294.226562 208.40625 289.75 208.40625 284.226562 C 208.40625 278.703125 212.882812 274.226562 218.40625 274.226562 C 223.929688 274.226562 228.40625 278.703125 228.40625 284.226562 \"/>\n",
       "<path style=\"fill-rule:nonzero;fill:rgb(100%,0%,0%);fill-opacity:1;stroke-width:1;stroke-linecap:butt;stroke-linejoin:miter;stroke:rgb(0%,0%,0%);stroke-opacity:1;stroke-miterlimit:10;\" d=\"M 151.710938 59.867188 C 151.710938 65.390625 147.234375 69.867188 141.710938 69.867188 C 136.1875 69.867188 131.710938 65.390625 131.710938 59.867188 C 131.710938 54.34375 136.1875 49.867188 141.710938 49.867188 C 147.234375 49.867188 151.710938 54.34375 151.710938 59.867188 \"/>\n",
       "<path style=\"fill-rule:nonzero;fill:rgb(100%,0%,0%);fill-opacity:1;stroke-width:1;stroke-linecap:butt;stroke-linejoin:miter;stroke:rgb(0%,0%,0%);stroke-opacity:1;stroke-miterlimit:10;\" d=\"M 53.128906 116.257812 C 53.128906 121.78125 48.648438 126.257812 43.128906 126.257812 C 37.605469 126.257812 33.128906 121.78125 33.128906 116.257812 C 33.128906 110.734375 37.605469 106.257812 43.128906 106.257812 C 48.648438 106.257812 53.128906 110.734375 53.128906 116.257812 \"/>\n",
       "<path style=\"fill-rule:nonzero;fill:rgb(100%,0%,0%);fill-opacity:1;stroke-width:1;stroke-linecap:butt;stroke-linejoin:miter;stroke:rgb(0%,0%,0%);stroke-opacity:1;stroke-miterlimit:10;\" d=\"M 456.917969 580 C 456.917969 585.523438 452.4375 590 446.917969 590 C 441.394531 590 436.917969 585.523438 436.917969 580 C 436.917969 574.476562 441.394531 570 446.917969 570 C 452.4375 570 456.917969 574.476562 456.917969 580 \"/>\n",
       "<path style=\"fill-rule:nonzero;fill:rgb(100%,0%,0%);fill-opacity:1;stroke-width:1;stroke-linecap:butt;stroke-linejoin:miter;stroke:rgb(0%,0%,0%);stroke-opacity:1;stroke-miterlimit:10;\" d=\"M 65.621094 407.054688 C 65.621094 412.578125 61.144531 417.054688 55.621094 417.054688 C 50.097656 417.054688 45.621094 412.578125 45.621094 407.054688 C 45.621094 401.535156 50.097656 397.054688 55.621094 397.054688 C 61.144531 397.054688 65.621094 401.535156 65.621094 407.054688 \"/>\n",
       "<path style=\"fill-rule:nonzero;fill:rgb(100%,0%,0%);fill-opacity:1;stroke-width:1;stroke-linecap:butt;stroke-linejoin:miter;stroke:rgb(0%,0%,0%);stroke-opacity:1;stroke-miterlimit:10;\" d=\"M 30 153.472656 C 30 158.996094 25.523438 163.472656 20 163.472656 C 14.476562 163.472656 10 158.996094 10 153.472656 C 10 147.949219 14.476562 143.472656 20 143.472656 C 25.523438 143.472656 30 147.949219 30 153.472656 \"/>\n",
       "<path style=\"fill-rule:nonzero;fill:rgb(100%,0%,0%);fill-opacity:1;stroke-width:1;stroke-linecap:butt;stroke-linejoin:miter;stroke:rgb(0%,0%,0%);stroke-opacity:1;stroke-miterlimit:10;\" d=\"M 132.023438 284.070312 C 132.023438 289.59375 127.546875 294.070312 122.023438 294.070312 C 116.503906 294.070312 112.023438 289.59375 112.023438 284.070312 C 112.023438 278.546875 116.503906 274.070312 122.023438 274.070312 C 127.546875 274.070312 132.023438 278.546875 132.023438 284.070312 \"/>\n",
       "<path style=\"fill-rule:nonzero;fill:rgb(100%,0%,0%);fill-opacity:1;stroke-width:1;stroke-linecap:butt;stroke-linejoin:miter;stroke:rgb(0%,0%,0%);stroke-opacity:1;stroke-miterlimit:10;\" d=\"M 94.390625 83.648438 C 94.390625 89.171875 89.914062 93.648438 84.390625 93.648438 C 78.867188 93.648438 74.390625 89.171875 74.390625 83.648438 C 74.390625 78.128906 78.867188 73.648438 84.390625 73.648438 C 89.914062 73.648438 94.390625 78.128906 94.390625 83.648438 \"/>\n",
       "<path style=\"fill-rule:nonzero;fill:rgb(100%,0%,0%);fill-opacity:1;stroke-width:1;stroke-linecap:butt;stroke-linejoin:miter;stroke:rgb(0%,0%,0%);stroke-opacity:1;stroke-miterlimit:10;\" d=\"M 111.621094 436.207031 C 111.621094 441.730469 107.144531 446.207031 101.621094 446.207031 C 96.097656 446.207031 91.621094 441.730469 91.621094 436.207031 C 91.621094 430.683594 96.097656 426.207031 101.621094 426.207031 C 107.144531 426.207031 111.621094 430.683594 111.621094 436.207031 \"/>\n",
       "<path style=\"fill-rule:nonzero;fill:rgb(100%,0%,0%);fill-opacity:1;stroke-width:1;stroke-linecap:butt;stroke-linejoin:miter;stroke:rgb(0%,0%,0%);stroke-opacity:1;stroke-miterlimit:10;\" d=\"M 223.492188 54.59375 C 223.492188 60.117188 219.015625 64.59375 213.492188 64.59375 C 207.96875 64.59375 203.492188 60.117188 203.492188 54.59375 C 203.492188 49.074219 207.96875 44.59375 213.492188 44.59375 C 219.015625 44.59375 223.492188 49.074219 223.492188 54.59375 \"/>\n",
       "<path style=\"fill-rule:nonzero;fill:rgb(100%,0%,0%);fill-opacity:1;stroke-width:1;stroke-linecap:butt;stroke-linejoin:miter;stroke:rgb(0%,0%,0%);stroke-opacity:1;stroke-miterlimit:10;\" d=\"M 424.417969 106.957031 C 424.417969 112.476562 419.9375 116.957031 414.417969 116.957031 C 408.894531 116.957031 404.417969 112.476562 404.417969 106.957031 C 404.417969 101.433594 408.894531 96.957031 414.417969 96.957031 C 419.9375 96.957031 424.417969 101.433594 424.417969 106.957031 \"/>\n",
       "<path style=\"fill-rule:nonzero;fill:rgb(100%,0%,0%);fill-opacity:1;stroke-width:1;stroke-linecap:butt;stroke-linejoin:miter;stroke:rgb(0%,0%,0%);stroke-opacity:1;stroke-miterlimit:10;\" d=\"M 590 186.261719 C 590 191.785156 585.523438 196.261719 580 196.261719 C 574.476562 196.261719 570 191.785156 570 186.261719 C 570 180.738281 574.476562 176.261719 580 176.261719 C 585.523438 176.261719 590 180.738281 590 186.261719 \"/>\n",
       "<path style=\"fill-rule:nonzero;fill:rgb(100%,0%,0%);fill-opacity:1;stroke-width:1;stroke-linecap:butt;stroke-linejoin:miter;stroke:rgb(0%,0%,0%);stroke-opacity:1;stroke-miterlimit:10;\" d=\"M 574.140625 228.570312 C 574.140625 234.09375 569.664062 238.570312 564.140625 238.570312 C 558.617188 238.570312 554.140625 234.09375 554.140625 228.570312 C 554.140625 223.046875 558.617188 218.570312 564.140625 218.570312 C 569.664062 218.570312 574.140625 223.046875 574.140625 228.570312 \"/>\n",
       "<path style=\"fill-rule:nonzero;fill:rgb(100%,0%,0%);fill-opacity:1;stroke-width:1;stroke-linecap:butt;stroke-linejoin:miter;stroke:rgb(0%,0%,0%);stroke-opacity:1;stroke-miterlimit:10;\" d=\"M 287.054688 20 C 287.054688 25.523438 282.578125 30 277.054688 30 C 271.535156 30 267.054688 25.523438 267.054688 20 C 267.054688 14.476562 271.535156 10 277.054688 10 C 282.578125 10 287.054688 14.476562 287.054688 20 \"/>\n",
       "<path style=\"fill-rule:nonzero;fill:rgb(100%,0%,0%);fill-opacity:1;stroke-width:1;stroke-linecap:butt;stroke-linejoin:miter;stroke:rgb(0%,0%,0%);stroke-opacity:1;stroke-miterlimit:10;\" d=\"M 439.644531 182.421875 C 439.644531 187.941406 435.167969 192.421875 429.644531 192.421875 C 424.125 192.421875 419.644531 187.941406 419.644531 182.421875 C 419.644531 176.898438 424.125 172.421875 429.644531 172.421875 C 435.167969 172.421875 439.644531 176.898438 439.644531 182.421875 \"/>\n",
       "<path style=\"fill-rule:nonzero;fill:rgb(100%,0%,0%);fill-opacity:1;stroke-width:1;stroke-linecap:butt;stroke-linejoin:miter;stroke:rgb(0%,0%,0%);stroke-opacity:1;stroke-miterlimit:10;\" d=\"M 387.964844 179.179688 C 387.964844 184.703125 383.488281 189.179688 377.964844 189.179688 C 372.441406 189.179688 367.964844 184.703125 367.964844 179.179688 C 367.964844 173.65625 372.441406 169.179688 377.964844 169.179688 C 383.488281 169.179688 387.964844 173.65625 387.964844 179.179688 \"/>\n",
       "<path style=\"fill-rule:nonzero;fill:rgb(100%,0%,0%);fill-opacity:1;stroke-width:1;stroke-linecap:butt;stroke-linejoin:miter;stroke:rgb(0%,0%,0%);stroke-opacity:1;stroke-miterlimit:10;\" d=\"M 341.359375 68.214844 C 341.359375 73.738281 336.882812 78.214844 331.359375 78.214844 C 325.835938 78.214844 321.359375 73.738281 321.359375 68.214844 C 321.359375 62.691406 325.835938 58.214844 331.359375 58.214844 C 336.882812 58.214844 341.359375 62.691406 341.359375 68.214844 \"/>\n",
       "<path style=\"fill-rule:nonzero;fill:rgb(100%,0%,0%);fill-opacity:1;stroke-width:1;stroke-linecap:butt;stroke-linejoin:miter;stroke:rgb(0%,0%,0%);stroke-opacity:1;stroke-miterlimit:10;\" d=\"M 80.679688 230.246094 C 80.679688 235.769531 76.203125 240.246094 70.679688 240.246094 C 65.15625 240.246094 60.679688 235.769531 60.679688 230.246094 C 60.679688 224.726562 65.15625 220.246094 70.679688 220.246094 C 76.203125 220.246094 80.679688 224.726562 80.679688 230.246094 \"/>\n",
       "<path style=\"fill-rule:nonzero;fill:rgb(100%,0%,0%);fill-opacity:1;stroke-width:1;stroke-linecap:butt;stroke-linejoin:miter;stroke:rgb(0%,0%,0%);stroke-opacity:1;stroke-miterlimit:10;\" d=\"M 387.363281 251.421875 C 387.363281 256.945312 382.886719 261.421875 377.363281 261.421875 C 371.839844 261.421875 367.363281 256.945312 367.363281 251.421875 C 367.363281 245.898438 371.839844 241.421875 377.363281 241.421875 C 382.886719 241.421875 387.363281 245.898438 387.363281 251.421875 \"/>\n",
       "<path style=\"fill-rule:nonzero;fill:rgb(100%,0%,0%);fill-opacity:1;stroke-width:1;stroke-linecap:butt;stroke-linejoin:miter;stroke:rgb(0%,0%,0%);stroke-opacity:1;stroke-miterlimit:10;\" d=\"M 201.835938 162.421875 C 201.835938 167.941406 197.355469 172.421875 191.835938 172.421875 C 186.3125 172.421875 181.835938 167.941406 181.835938 162.421875 C 181.835938 156.898438 186.3125 152.421875 191.835938 152.421875 C 197.355469 152.421875 201.835938 156.898438 201.835938 162.421875 \"/>\n",
       "<path style=\"fill-rule:nonzero;fill:rgb(100%,0%,0%);fill-opacity:1;stroke-width:1;stroke-linecap:butt;stroke-linejoin:miter;stroke:rgb(0%,0%,0%);stroke-opacity:1;stroke-miterlimit:10;\" d=\"M 240.492188 155.398438 C 240.492188 160.921875 236.015625 165.398438 230.492188 165.398438 C 224.972656 165.398438 220.492188 160.921875 220.492188 155.398438 C 220.492188 149.878906 224.972656 145.398438 230.492188 145.398438 C 236.015625 145.398438 240.492188 149.878906 240.492188 155.398438 \"/>\n",
       "</g>\n",
       "</svg>\n"
      ],
      "text/plain": [
       "<igraph.drawing.cairo.plot.CairoPlot at 0x11be65090>"
      ]
     },
     "execution_count": 2,
     "metadata": {
      "image/svg+xml": {
       "isolated": true
      }
     },
     "output_type": "execute_result"
    }
   ],
   "source": [
    "import igraph\n",
    "\n",
    "g = igraph.Graph.Famous(\"Zachary\")\n",
    "igraph.plot(g, vertex_size=20)"
   ]
  },
  {
   "cell_type": "markdown",
   "id": "f6d6e81d",
   "metadata": {},
   "source": [
    "When it comes to maximizing modularity, there are a variety of algorithms to choose from.\n",
    "Two of the most popular ones are the `Louvain` and `Leiden` algorithms, both of which are implemented in `igraph`. The Louvain algorithm has been around for quite some time and is a classic choice, while the Leiden algorithm is a newer bee that often yields better accuracy. For our example, we'll be using the `Leiden` algorithm, and I think you'll find it really effective!"
   ]
  },
  {
   "cell_type": "code",
   "execution_count": null,
   "id": "9f8f3b03",
   "metadata": {},
   "outputs": [],
   "source": [
    "communities = g.community_leiden(resolution=1, objective_function=\"modularity\")"
   ]
  },
  {
   "cell_type": "markdown",
   "id": "7ce9bc8f",
   "metadata": {},
   "source": [
    "What is `resolution`? It is a parameter that helps us tackle the resolution limit of the modularity maximization algorithm {footcite}`fortunato2007resolution`!\n",
    "In simple terms, when we use the resolution parameter $\\rho$, the modularity formula can be rewritten as\n",
    " follow:\n",
    "\n",
    "$$\n",
    "Q(M) = \\frac{1}{2m} \\sum_{i=1}^n \\sum_{j=1}^n \\left(A_{ij} - \\rho \\frac{k_i k_j}{2m}\\right) \\delta(c_i, c_j)\n",
    "$$\n",
    "\n",
    "Here, the parameter $\\rho$ plays a crucial role in balancing the positive and negative parts of the equation.\n",
    "The resolution limit comes into play because of the diminishing effect of the negative term as the number of edges $m$ increases.\n",
    "The parameter $\\rho$ can adjust this balance and allow us to circumvent the resolution limit.\n",
    "\n",
    "What is `communities`? This is a list of communities, where each community is represented by a list of nodes by their indices."
   ]
  },
  {
   "cell_type": "code",
   "execution_count": 4,
   "id": "908c5fcf",
   "metadata": {},
   "outputs": [
    {
     "name": "stdout",
     "output_type": "stream",
     "text": [
      "[0, 0, 0, 0, 1, 1, 1, 0, 2, 2, 1, 0, 0, 0, 2, 2, 1, 0, 2, 0, 2, 0, 2, 3, 3, 3, 2, 3, 3, 2, 2, 3, 2, 2]\n"
     ]
    }
   ],
   "source": [
    "print(communities.membership)"
   ]
  },
  {
   "cell_type": "markdown",
   "id": "8cdfcc49",
   "metadata": {},
   "source": [
    "Let us visualize the communities by coloring the nodes in the graph."
   ]
  },
  {
   "cell_type": "code",
   "execution_count": null,
   "id": "f78cb66a",
   "metadata": {},
   "outputs": [
    {
     "data": {
      "image/svg+xml": [
       "<?xml version=\"1.0\" encoding=\"UTF-8\"?>\n",
       "<svg xmlns=\"http://www.w3.org/2000/svg\" xmlns:xlink=\"http://www.w3.org/1999/xlink\" width=\"600pt\" height=\"600pt\" viewBox=\"0 0 600 600\" version=\"1.1\">\n",
       "<g id=\"surface8\">\n",
       "<rect x=\"0\" y=\"0\" width=\"600\" height=\"600\" style=\"fill:rgb(100%,100%,100%);fill-opacity:1;stroke:none;\"/>\n",
       "<path style=\"fill:none;stroke-width:1;stroke-linecap:butt;stroke-linejoin:miter;stroke:rgb(26.666667%,26.666667%,26.666667%);stroke-opacity:1;stroke-miterlimit:10;\" d=\"M 268.234375 380.121094 L 167.3125 348.042969 \"/>\n",
       "<path style=\"fill:none;stroke-width:1;stroke-linecap:butt;stroke-linejoin:miter;stroke:rgb(26.666667%,26.666667%,26.666667%);stroke-opacity:1;stroke-miterlimit:10;\" d=\"M 268.234375 380.121094 L 306.316406 270.535156 \"/>\n",
       "<path style=\"fill:none;stroke-width:1;stroke-linecap:butt;stroke-linejoin:miter;stroke:rgb(26.666667%,26.666667%,26.666667%);stroke-opacity:1;stroke-miterlimit:10;\" d=\"M 268.234375 380.121094 L 308.523438 354.417969 \"/>\n",
       "<path style=\"fill:none;stroke-width:1;stroke-linecap:butt;stroke-linejoin:miter;stroke:rgb(26.666667%,26.666667%,26.666667%);stroke-opacity:1;stroke-miterlimit:10;\" d=\"M 268.234375 380.121094 L 493.1875 411.027344 \"/>\n",
       "<path style=\"fill:none;stroke-width:1;stroke-linecap:butt;stroke-linejoin:miter;stroke:rgb(26.666667%,26.666667%,26.666667%);stroke-opacity:1;stroke-miterlimit:10;\" d=\"M 268.234375 380.121094 L 319.867188 497.75 \"/>\n",
       "<path style=\"fill:none;stroke-width:1;stroke-linecap:butt;stroke-linejoin:miter;stroke:rgb(26.666667%,26.666667%,26.666667%);stroke-opacity:1;stroke-miterlimit:10;\" d=\"M 268.234375 380.121094 L 416.589844 475.585938 \"/>\n",
       "<path style=\"fill:none;stroke-width:1;stroke-linecap:butt;stroke-linejoin:miter;stroke:rgb(26.666667%,26.666667%,26.666667%);stroke-opacity:1;stroke-miterlimit:10;\" d=\"M 268.234375 380.121094 L 397.800781 345.332031 \"/>\n",
       "<path style=\"fill:none;stroke-width:1;stroke-linecap:butt;stroke-linejoin:miter;stroke:rgb(26.666667%,26.666667%,26.666667%);stroke-opacity:1;stroke-miterlimit:10;\" d=\"M 268.234375 380.121094 L 179.035156 260.472656 \"/>\n",
       "<path style=\"fill:none;stroke-width:1;stroke-linecap:butt;stroke-linejoin:miter;stroke:rgb(26.666667%,26.666667%,26.666667%);stroke-opacity:1;stroke-miterlimit:10;\" d=\"M 268.234375 380.121094 L 410.246094 442.617188 \"/>\n",
       "<path style=\"fill:none;stroke-width:1;stroke-linecap:butt;stroke-linejoin:miter;stroke:rgb(26.666667%,26.666667%,26.666667%);stroke-opacity:1;stroke-miterlimit:10;\" d=\"M 268.234375 380.121094 L 152.472656 482.945312 \"/>\n",
       "<path style=\"fill:none;stroke-width:1;stroke-linecap:butt;stroke-linejoin:miter;stroke:rgb(26.666667%,26.666667%,26.666667%);stroke-opacity:1;stroke-miterlimit:10;\" d=\"M 268.234375 380.121094 L 237.789062 466.75 \"/>\n",
       "<path style=\"fill:none;stroke-width:1;stroke-linecap:butt;stroke-linejoin:miter;stroke:rgb(26.666667%,26.666667%,26.666667%);stroke-opacity:1;stroke-miterlimit:10;\" d=\"M 268.234375 380.121094 L 218.40625 284.226562 \"/>\n",
       "<path style=\"fill:none;stroke-width:1;stroke-linecap:butt;stroke-linejoin:miter;stroke:rgb(26.666667%,26.666667%,26.666667%);stroke-opacity:1;stroke-miterlimit:10;\" d=\"M 268.234375 380.121094 L 55.621094 407.054688 \"/>\n",
       "<path style=\"fill:none;stroke-width:1;stroke-linecap:butt;stroke-linejoin:miter;stroke:rgb(26.666667%,26.666667%,26.666667%);stroke-opacity:1;stroke-miterlimit:10;\" d=\"M 268.234375 380.121094 L 122.023438 284.070312 \"/>\n",
       "<path style=\"fill:none;stroke-width:1;stroke-linecap:butt;stroke-linejoin:miter;stroke:rgb(26.666667%,26.666667%,26.666667%);stroke-opacity:1;stroke-miterlimit:10;\" d=\"M 268.234375 380.121094 L 101.621094 436.207031 \"/>\n",
       "<path style=\"fill:none;stroke-width:1;stroke-linecap:butt;stroke-linejoin:miter;stroke:rgb(26.666667%,26.666667%,26.666667%);stroke-opacity:1;stroke-miterlimit:10;\" d=\"M 268.234375 380.121094 L 377.363281 251.421875 \"/>\n",
       "<path style=\"fill:none;stroke-width:1;stroke-linecap:butt;stroke-linejoin:miter;stroke:rgb(26.666667%,26.666667%,26.666667%);stroke-opacity:1;stroke-miterlimit:10;\" d=\"M 167.3125 348.042969 L 306.316406 270.535156 \"/>\n",
       "<path style=\"fill:none;stroke-width:1;stroke-linecap:butt;stroke-linejoin:miter;stroke:rgb(26.666667%,26.666667%,26.666667%);stroke-opacity:1;stroke-miterlimit:10;\" d=\"M 167.3125 348.042969 L 308.523438 354.417969 \"/>\n",
       "<path style=\"fill:none;stroke-width:1;stroke-linecap:butt;stroke-linejoin:miter;stroke:rgb(26.666667%,26.666667%,26.666667%);stroke-opacity:1;stroke-miterlimit:10;\" d=\"M 167.3125 348.042969 L 397.800781 345.332031 \"/>\n",
       "<path style=\"fill:none;stroke-width:1;stroke-linecap:butt;stroke-linejoin:miter;stroke:rgb(26.666667%,26.666667%,26.666667%);stroke-opacity:1;stroke-miterlimit:10;\" d=\"M 167.3125 348.042969 L 218.40625 284.226562 \"/>\n",
       "<path style=\"fill:none;stroke-width:1;stroke-linecap:butt;stroke-linejoin:miter;stroke:rgb(26.666667%,26.666667%,26.666667%);stroke-opacity:1;stroke-miterlimit:10;\" d=\"M 167.3125 348.042969 L 55.621094 407.054688 \"/>\n",
       "<path style=\"fill:none;stroke-width:1;stroke-linecap:butt;stroke-linejoin:miter;stroke:rgb(26.666667%,26.666667%,26.666667%);stroke-opacity:1;stroke-miterlimit:10;\" d=\"M 167.3125 348.042969 L 122.023438 284.070312 \"/>\n",
       "<path style=\"fill:none;stroke-width:1;stroke-linecap:butt;stroke-linejoin:miter;stroke:rgb(26.666667%,26.666667%,26.666667%);stroke-opacity:1;stroke-miterlimit:10;\" d=\"M 167.3125 348.042969 L 101.621094 436.207031 \"/>\n",
       "<path style=\"fill:none;stroke-width:1;stroke-linecap:butt;stroke-linejoin:miter;stroke:rgb(26.666667%,26.666667%,26.666667%);stroke-opacity:1;stroke-miterlimit:10;\" d=\"M 167.3125 348.042969 L 70.679688 230.246094 \"/>\n",
       "<path style=\"fill:none;stroke-width:1;stroke-linecap:butt;stroke-linejoin:miter;stroke:rgb(26.666667%,26.666667%,26.666667%);stroke-opacity:1;stroke-miterlimit:10;\" d=\"M 306.316406 270.535156 L 308.523438 354.417969 \"/>\n",
       "<path style=\"fill:none;stroke-width:1;stroke-linecap:butt;stroke-linejoin:miter;stroke:rgb(26.666667%,26.666667%,26.666667%);stroke-opacity:1;stroke-miterlimit:10;\" d=\"M 306.316406 270.535156 L 397.800781 345.332031 \"/>\n",
       "<path style=\"fill:none;stroke-width:1;stroke-linecap:butt;stroke-linejoin:miter;stroke:rgb(26.666667%,26.666667%,26.666667%);stroke-opacity:1;stroke-miterlimit:10;\" d=\"M 306.316406 270.535156 L 429.644531 182.421875 \"/>\n",
       "<path style=\"fill:none;stroke-width:1;stroke-linecap:butt;stroke-linejoin:miter;stroke:rgb(26.666667%,26.666667%,26.666667%);stroke-opacity:1;stroke-miterlimit:10;\" d=\"M 306.316406 270.535156 L 377.964844 179.179688 \"/>\n",
       "<path style=\"fill:none;stroke-width:1;stroke-linecap:butt;stroke-linejoin:miter;stroke:rgb(26.666667%,26.666667%,26.666667%);stroke-opacity:1;stroke-miterlimit:10;\" d=\"M 306.316406 270.535156 L 191.835938 162.421875 \"/>\n",
       "<path style=\"fill:none;stroke-width:1;stroke-linecap:butt;stroke-linejoin:miter;stroke:rgb(26.666667%,26.666667%,26.666667%);stroke-opacity:1;stroke-miterlimit:10;\" d=\"M 306.316406 270.535156 L 317.847656 177.304688 \"/>\n",
       "<path style=\"fill:none;stroke-width:1;stroke-linecap:butt;stroke-linejoin:miter;stroke:rgb(26.666667%,26.666667%,26.666667%);stroke-opacity:1;stroke-miterlimit:10;\" d=\"M 306.316406 270.535156 L 179.035156 260.472656 \"/>\n",
       "<path style=\"fill:none;stroke-width:1;stroke-linecap:butt;stroke-linejoin:miter;stroke:rgb(26.666667%,26.666667%,26.666667%);stroke-opacity:1;stroke-miterlimit:10;\" d=\"M 306.316406 270.535156 L 218.40625 284.226562 \"/>\n",
       "<path style=\"fill:none;stroke-width:1;stroke-linecap:butt;stroke-linejoin:miter;stroke:rgb(26.666667%,26.666667%,26.666667%);stroke-opacity:1;stroke-miterlimit:10;\" d=\"M 308.523438 354.417969 L 397.800781 345.332031 \"/>\n",
       "<path style=\"fill:none;stroke-width:1;stroke-linecap:butt;stroke-linejoin:miter;stroke:rgb(26.666667%,26.666667%,26.666667%);stroke-opacity:1;stroke-miterlimit:10;\" d=\"M 308.523438 354.417969 L 237.789062 466.75 \"/>\n",
       "<path style=\"fill:none;stroke-width:1;stroke-linecap:butt;stroke-linejoin:miter;stroke:rgb(26.666667%,26.666667%,26.666667%);stroke-opacity:1;stroke-miterlimit:10;\" d=\"M 308.523438 354.417969 L 218.40625 284.226562 \"/>\n",
       "<path style=\"fill:none;stroke-width:1;stroke-linecap:butt;stroke-linejoin:miter;stroke:rgb(26.666667%,26.666667%,26.666667%);stroke-opacity:1;stroke-miterlimit:10;\" d=\"M 493.1875 411.027344 L 416.589844 475.585938 \"/>\n",
       "<path style=\"fill:none;stroke-width:1;stroke-linecap:butt;stroke-linejoin:miter;stroke:rgb(26.666667%,26.666667%,26.666667%);stroke-opacity:1;stroke-miterlimit:10;\" d=\"M 493.1875 411.027344 L 410.246094 442.617188 \"/>\n",
       "<path style=\"fill:none;stroke-width:1;stroke-linecap:butt;stroke-linejoin:miter;stroke:rgb(26.666667%,26.666667%,26.666667%);stroke-opacity:1;stroke-miterlimit:10;\" d=\"M 319.867188 497.75 L 416.589844 475.585938 \"/>\n",
       "<path style=\"fill:none;stroke-width:1;stroke-linecap:butt;stroke-linejoin:miter;stroke:rgb(26.666667%,26.666667%,26.666667%);stroke-opacity:1;stroke-miterlimit:10;\" d=\"M 319.867188 497.75 L 410.246094 442.617188 \"/>\n",
       "<path style=\"fill:none;stroke-width:1;stroke-linecap:butt;stroke-linejoin:miter;stroke:rgb(26.666667%,26.666667%,26.666667%);stroke-opacity:1;stroke-miterlimit:10;\" d=\"M 319.867188 497.75 L 446.917969 580 \"/>\n",
       "<path style=\"fill:none;stroke-width:1;stroke-linecap:butt;stroke-linejoin:miter;stroke:rgb(26.666667%,26.666667%,26.666667%);stroke-opacity:1;stroke-miterlimit:10;\" d=\"M 416.589844 475.585938 L 446.917969 580 \"/>\n",
       "<path style=\"fill:none;stroke-width:1;stroke-linecap:butt;stroke-linejoin:miter;stroke:rgb(26.666667%,26.666667%,26.666667%);stroke-opacity:1;stroke-miterlimit:10;\" d=\"M 179.035156 260.472656 L 70.679688 230.246094 \"/>\n",
       "<path style=\"fill:none;stroke-width:1;stroke-linecap:butt;stroke-linejoin:miter;stroke:rgb(26.666667%,26.666667%,26.666667%);stroke-opacity:1;stroke-miterlimit:10;\" d=\"M 179.035156 260.472656 L 191.835938 162.421875 \"/>\n",
       "<path style=\"fill:none;stroke-width:1;stroke-linecap:butt;stroke-linejoin:miter;stroke:rgb(26.666667%,26.666667%,26.666667%);stroke-opacity:1;stroke-miterlimit:10;\" d=\"M 179.035156 260.472656 L 230.492188 155.398438 \"/>\n",
       "<path style=\"fill:none;stroke-width:1;stroke-linecap:butt;stroke-linejoin:miter;stroke:rgb(26.666667%,26.666667%,26.666667%);stroke-opacity:1;stroke-miterlimit:10;\" d=\"M 317.847656 177.304688 L 230.492188 155.398438 \"/>\n",
       "<path style=\"fill:none;stroke-width:1;stroke-linecap:butt;stroke-linejoin:miter;stroke:rgb(26.666667%,26.666667%,26.666667%);stroke-opacity:1;stroke-miterlimit:10;\" d=\"M 218.40625 284.226562 L 230.492188 155.398438 \"/>\n",
       "<path style=\"fill:none;stroke-width:1;stroke-linecap:butt;stroke-linejoin:miter;stroke:rgb(26.666667%,26.666667%,26.666667%);stroke-opacity:1;stroke-miterlimit:10;\" d=\"M 141.710938 59.867188 L 191.835938 162.421875 \"/>\n",
       "<path style=\"fill:none;stroke-width:1;stroke-linecap:butt;stroke-linejoin:miter;stroke:rgb(26.666667%,26.666667%,26.666667%);stroke-opacity:1;stroke-miterlimit:10;\" d=\"M 141.710938 59.867188 L 230.492188 155.398438 \"/>\n",
       "<path style=\"fill:none;stroke-width:1;stroke-linecap:butt;stroke-linejoin:miter;stroke:rgb(26.666667%,26.666667%,26.666667%);stroke-opacity:1;stroke-miterlimit:10;\" d=\"M 43.128906 116.257812 L 191.835938 162.421875 \"/>\n",
       "<path style=\"fill:none;stroke-width:1;stroke-linecap:butt;stroke-linejoin:miter;stroke:rgb(26.666667%,26.666667%,26.666667%);stroke-opacity:1;stroke-miterlimit:10;\" d=\"M 43.128906 116.257812 L 230.492188 155.398438 \"/>\n",
       "<path style=\"fill:none;stroke-width:1;stroke-linecap:butt;stroke-linejoin:miter;stroke:rgb(26.666667%,26.666667%,26.666667%);stroke-opacity:1;stroke-miterlimit:10;\" d=\"M 20 153.472656 L 191.835938 162.421875 \"/>\n",
       "<path style=\"fill:none;stroke-width:1;stroke-linecap:butt;stroke-linejoin:miter;stroke:rgb(26.666667%,26.666667%,26.666667%);stroke-opacity:1;stroke-miterlimit:10;\" d=\"M 20 153.472656 L 230.492188 155.398438 \"/>\n",
       "<path style=\"fill:none;stroke-width:1;stroke-linecap:butt;stroke-linejoin:miter;stroke:rgb(26.666667%,26.666667%,26.666667%);stroke-opacity:1;stroke-miterlimit:10;\" d=\"M 122.023438 284.070312 L 230.492188 155.398438 \"/>\n",
       "<path style=\"fill:none;stroke-width:1;stroke-linecap:butt;stroke-linejoin:miter;stroke:rgb(26.666667%,26.666667%,26.666667%);stroke-opacity:1;stroke-miterlimit:10;\" d=\"M 84.390625 83.648438 L 191.835938 162.421875 \"/>\n",
       "<path style=\"fill:none;stroke-width:1;stroke-linecap:butt;stroke-linejoin:miter;stroke:rgb(26.666667%,26.666667%,26.666667%);stroke-opacity:1;stroke-miterlimit:10;\" d=\"M 84.390625 83.648438 L 230.492188 155.398438 \"/>\n",
       "<path style=\"fill:none;stroke-width:1;stroke-linecap:butt;stroke-linejoin:miter;stroke:rgb(26.666667%,26.666667%,26.666667%);stroke-opacity:1;stroke-miterlimit:10;\" d=\"M 213.492188 54.59375 L 191.835938 162.421875 \"/>\n",
       "<path style=\"fill:none;stroke-width:1;stroke-linecap:butt;stroke-linejoin:miter;stroke:rgb(26.666667%,26.666667%,26.666667%);stroke-opacity:1;stroke-miterlimit:10;\" d=\"M 213.492188 54.59375 L 230.492188 155.398438 \"/>\n",
       "<path style=\"fill:none;stroke-width:1;stroke-linecap:butt;stroke-linejoin:miter;stroke:rgb(26.666667%,26.666667%,26.666667%);stroke-opacity:1;stroke-miterlimit:10;\" d=\"M 414.417969 106.957031 L 564.140625 228.570312 \"/>\n",
       "<path style=\"fill:none;stroke-width:1;stroke-linecap:butt;stroke-linejoin:miter;stroke:rgb(26.666667%,26.666667%,26.666667%);stroke-opacity:1;stroke-miterlimit:10;\" d=\"M 414.417969 106.957031 L 429.644531 182.421875 \"/>\n",
       "<path style=\"fill:none;stroke-width:1;stroke-linecap:butt;stroke-linejoin:miter;stroke:rgb(26.666667%,26.666667%,26.666667%);stroke-opacity:1;stroke-miterlimit:10;\" d=\"M 414.417969 106.957031 L 191.835938 162.421875 \"/>\n",
       "<path style=\"fill:none;stroke-width:1;stroke-linecap:butt;stroke-linejoin:miter;stroke:rgb(26.666667%,26.666667%,26.666667%);stroke-opacity:1;stroke-miterlimit:10;\" d=\"M 414.417969 106.957031 L 230.492188 155.398438 \"/>\n",
       "<path style=\"fill:none;stroke-width:1;stroke-linecap:butt;stroke-linejoin:miter;stroke:rgb(26.666667%,26.666667%,26.666667%);stroke-opacity:1;stroke-miterlimit:10;\" d=\"M 414.417969 106.957031 L 331.359375 68.214844 \"/>\n",
       "<path style=\"fill:none;stroke-width:1;stroke-linecap:butt;stroke-linejoin:miter;stroke:rgb(26.666667%,26.666667%,26.666667%);stroke-opacity:1;stroke-miterlimit:10;\" d=\"M 580 186.261719 L 564.140625 228.570312 \"/>\n",
       "<path style=\"fill:none;stroke-width:1;stroke-linecap:butt;stroke-linejoin:miter;stroke:rgb(26.666667%,26.666667%,26.666667%);stroke-opacity:1;stroke-miterlimit:10;\" d=\"M 580 186.261719 L 429.644531 182.421875 \"/>\n",
       "<path style=\"fill:none;stroke-width:1;stroke-linecap:butt;stroke-linejoin:miter;stroke:rgb(26.666667%,26.666667%,26.666667%);stroke-opacity:1;stroke-miterlimit:10;\" d=\"M 580 186.261719 L 377.363281 251.421875 \"/>\n",
       "<path style=\"fill:none;stroke-width:1;stroke-linecap:butt;stroke-linejoin:miter;stroke:rgb(26.666667%,26.666667%,26.666667%);stroke-opacity:1;stroke-miterlimit:10;\" d=\"M 564.140625 228.570312 L 377.363281 251.421875 \"/>\n",
       "<path style=\"fill:none;stroke-width:1;stroke-linecap:butt;stroke-linejoin:miter;stroke:rgb(26.666667%,26.666667%,26.666667%);stroke-opacity:1;stroke-miterlimit:10;\" d=\"M 277.054688 20 L 331.359375 68.214844 \"/>\n",
       "<path style=\"fill:none;stroke-width:1;stroke-linecap:butt;stroke-linejoin:miter;stroke:rgb(26.666667%,26.666667%,26.666667%);stroke-opacity:1;stroke-miterlimit:10;\" d=\"M 277.054688 20 L 230.492188 155.398438 \"/>\n",
       "<path style=\"fill:none;stroke-width:1;stroke-linecap:butt;stroke-linejoin:miter;stroke:rgb(26.666667%,26.666667%,26.666667%);stroke-opacity:1;stroke-miterlimit:10;\" d=\"M 429.644531 182.421875 L 230.492188 155.398438 \"/>\n",
       "<path style=\"fill:none;stroke-width:1;stroke-linecap:butt;stroke-linejoin:miter;stroke:rgb(26.666667%,26.666667%,26.666667%);stroke-opacity:1;stroke-miterlimit:10;\" d=\"M 377.964844 179.179688 L 377.363281 251.421875 \"/>\n",
       "<path style=\"fill:none;stroke-width:1;stroke-linecap:butt;stroke-linejoin:miter;stroke:rgb(26.666667%,26.666667%,26.666667%);stroke-opacity:1;stroke-miterlimit:10;\" d=\"M 377.964844 179.179688 L 230.492188 155.398438 \"/>\n",
       "<path style=\"fill:none;stroke-width:1;stroke-linecap:butt;stroke-linejoin:miter;stroke:rgb(26.666667%,26.666667%,26.666667%);stroke-opacity:1;stroke-miterlimit:10;\" d=\"M 331.359375 68.214844 L 191.835938 162.421875 \"/>\n",
       "<path style=\"fill:none;stroke-width:1;stroke-linecap:butt;stroke-linejoin:miter;stroke:rgb(26.666667%,26.666667%,26.666667%);stroke-opacity:1;stroke-miterlimit:10;\" d=\"M 331.359375 68.214844 L 230.492188 155.398438 \"/>\n",
       "<path style=\"fill:none;stroke-width:1;stroke-linecap:butt;stroke-linejoin:miter;stroke:rgb(26.666667%,26.666667%,26.666667%);stroke-opacity:1;stroke-miterlimit:10;\" d=\"M 70.679688 230.246094 L 191.835938 162.421875 \"/>\n",
       "<path style=\"fill:none;stroke-width:1;stroke-linecap:butt;stroke-linejoin:miter;stroke:rgb(26.666667%,26.666667%,26.666667%);stroke-opacity:1;stroke-miterlimit:10;\" d=\"M 70.679688 230.246094 L 230.492188 155.398438 \"/>\n",
       "<path style=\"fill:none;stroke-width:1;stroke-linecap:butt;stroke-linejoin:miter;stroke:rgb(26.666667%,26.666667%,26.666667%);stroke-opacity:1;stroke-miterlimit:10;\" d=\"M 377.363281 251.421875 L 191.835938 162.421875 \"/>\n",
       "<path style=\"fill:none;stroke-width:1;stroke-linecap:butt;stroke-linejoin:miter;stroke:rgb(26.666667%,26.666667%,26.666667%);stroke-opacity:1;stroke-miterlimit:10;\" d=\"M 377.363281 251.421875 L 230.492188 155.398438 \"/>\n",
       "<path style=\"fill:none;stroke-width:1;stroke-linecap:butt;stroke-linejoin:miter;stroke:rgb(26.666667%,26.666667%,26.666667%);stroke-opacity:1;stroke-miterlimit:10;\" d=\"M 191.835938 162.421875 L 230.492188 155.398438 \"/>\n",
       "<path style=\"fill-rule:nonzero;fill:rgb(12.156863%,46.666667%,70.588235%);fill-opacity:1;stroke-width:1;stroke-linecap:butt;stroke-linejoin:miter;stroke:rgb(0%,0%,0%);stroke-opacity:1;stroke-miterlimit:10;\" d=\"M 278.234375 380.121094 C 278.234375 385.644531 273.757812 390.121094 268.234375 390.121094 C 262.710938 390.121094 258.234375 385.644531 258.234375 380.121094 C 258.234375 374.601562 262.710938 370.121094 268.234375 370.121094 C 273.757812 370.121094 278.234375 374.601562 278.234375 380.121094 \"/>\n",
       "<path style=\"fill-rule:nonzero;fill:rgb(12.156863%,46.666667%,70.588235%);fill-opacity:1;stroke-width:1;stroke-linecap:butt;stroke-linejoin:miter;stroke:rgb(0%,0%,0%);stroke-opacity:1;stroke-miterlimit:10;\" d=\"M 177.3125 348.042969 C 177.3125 353.566406 172.835938 358.042969 167.3125 358.042969 C 161.789062 358.042969 157.3125 353.566406 157.3125 348.042969 C 157.3125 342.519531 161.789062 338.042969 167.3125 338.042969 C 172.835938 338.042969 177.3125 342.519531 177.3125 348.042969 \"/>\n",
       "<path style=\"fill-rule:nonzero;fill:rgb(12.156863%,46.666667%,70.588235%);fill-opacity:1;stroke-width:1;stroke-linecap:butt;stroke-linejoin:miter;stroke:rgb(0%,0%,0%);stroke-opacity:1;stroke-miterlimit:10;\" d=\"M 316.316406 270.535156 C 316.316406 276.058594 311.839844 280.535156 306.316406 280.535156 C 300.792969 280.535156 296.316406 276.058594 296.316406 270.535156 C 296.316406 265.015625 300.792969 260.535156 306.316406 260.535156 C 311.839844 260.535156 316.316406 265.015625 316.316406 270.535156 \"/>\n",
       "<path style=\"fill-rule:nonzero;fill:rgb(12.156863%,46.666667%,70.588235%);fill-opacity:1;stroke-width:1;stroke-linecap:butt;stroke-linejoin:miter;stroke:rgb(0%,0%,0%);stroke-opacity:1;stroke-miterlimit:10;\" d=\"M 318.523438 354.417969 C 318.523438 359.941406 314.046875 364.417969 308.523438 364.417969 C 303.003906 364.417969 298.523438 359.941406 298.523438 354.417969 C 298.523438 348.898438 303.003906 344.417969 308.523438 344.417969 C 314.046875 344.417969 318.523438 348.898438 318.523438 354.417969 \"/>\n",
       "<path style=\"fill-rule:nonzero;fill:rgb(100%,49.803922%,5.490196%);fill-opacity:1;stroke-width:1;stroke-linecap:butt;stroke-linejoin:miter;stroke:rgb(0%,0%,0%);stroke-opacity:1;stroke-miterlimit:10;\" d=\"M 503.1875 411.027344 C 503.1875 416.550781 498.707031 421.027344 493.1875 421.027344 C 487.664062 421.027344 483.1875 416.550781 483.1875 411.027344 C 483.1875 405.503906 487.664062 401.027344 493.1875 401.027344 C 498.707031 401.027344 503.1875 405.503906 503.1875 411.027344 \"/>\n",
       "<path style=\"fill-rule:nonzero;fill:rgb(100%,49.803922%,5.490196%);fill-opacity:1;stroke-width:1;stroke-linecap:butt;stroke-linejoin:miter;stroke:rgb(0%,0%,0%);stroke-opacity:1;stroke-miterlimit:10;\" d=\"M 329.867188 497.75 C 329.867188 503.273438 325.390625 507.75 319.867188 507.75 C 314.34375 507.75 309.867188 503.273438 309.867188 497.75 C 309.867188 492.226562 314.34375 487.75 319.867188 487.75 C 325.390625 487.75 329.867188 492.226562 329.867188 497.75 \"/>\n",
       "<path style=\"fill-rule:nonzero;fill:rgb(100%,49.803922%,5.490196%);fill-opacity:1;stroke-width:1;stroke-linecap:butt;stroke-linejoin:miter;stroke:rgb(0%,0%,0%);stroke-opacity:1;stroke-miterlimit:10;\" d=\"M 426.589844 475.585938 C 426.589844 481.109375 422.113281 485.585938 416.589844 485.585938 C 411.066406 485.585938 406.589844 481.109375 406.589844 475.585938 C 406.589844 470.0625 411.066406 465.585938 416.589844 465.585938 C 422.113281 465.585938 426.589844 470.0625 426.589844 475.585938 \"/>\n",
       "<path style=\"fill-rule:nonzero;fill:rgb(12.156863%,46.666667%,70.588235%);fill-opacity:1;stroke-width:1;stroke-linecap:butt;stroke-linejoin:miter;stroke:rgb(0%,0%,0%);stroke-opacity:1;stroke-miterlimit:10;\" d=\"M 407.800781 345.332031 C 407.800781 350.855469 403.324219 355.332031 397.800781 355.332031 C 392.277344 355.332031 387.800781 350.855469 387.800781 345.332031 C 387.800781 339.808594 392.277344 335.332031 397.800781 335.332031 C 403.324219 335.332031 407.800781 339.808594 407.800781 345.332031 \"/>\n",
       "<path style=\"fill-rule:nonzero;fill:rgb(17.254902%,62.745098%,17.254902%);fill-opacity:1;stroke-width:1;stroke-linecap:butt;stroke-linejoin:miter;stroke:rgb(0%,0%,0%);stroke-opacity:1;stroke-miterlimit:10;\" d=\"M 189.035156 260.472656 C 189.035156 265.996094 184.558594 270.472656 179.035156 270.472656 C 173.511719 270.472656 169.035156 265.996094 169.035156 260.472656 C 169.035156 254.949219 173.511719 250.472656 179.035156 250.472656 C 184.558594 250.472656 189.035156 254.949219 189.035156 260.472656 \"/>\n",
       "<path style=\"fill-rule:nonzero;fill:rgb(17.254902%,62.745098%,17.254902%);fill-opacity:1;stroke-width:1;stroke-linecap:butt;stroke-linejoin:miter;stroke:rgb(0%,0%,0%);stroke-opacity:1;stroke-miterlimit:10;\" d=\"M 327.847656 177.304688 C 327.847656 182.828125 323.371094 187.304688 317.847656 187.304688 C 312.324219 187.304688 307.847656 182.828125 307.847656 177.304688 C 307.847656 171.785156 312.324219 167.304688 317.847656 167.304688 C 323.371094 167.304688 327.847656 171.785156 327.847656 177.304688 \"/>\n",
       "<path style=\"fill-rule:nonzero;fill:rgb(100%,49.803922%,5.490196%);fill-opacity:1;stroke-width:1;stroke-linecap:butt;stroke-linejoin:miter;stroke:rgb(0%,0%,0%);stroke-opacity:1;stroke-miterlimit:10;\" d=\"M 420.246094 442.617188 C 420.246094 448.140625 415.769531 452.617188 410.246094 452.617188 C 404.722656 452.617188 400.246094 448.140625 400.246094 442.617188 C 400.246094 437.097656 404.722656 432.617188 410.246094 432.617188 C 415.769531 432.617188 420.246094 437.097656 420.246094 442.617188 \"/>\n",
       "<path style=\"fill-rule:nonzero;fill:rgb(12.156863%,46.666667%,70.588235%);fill-opacity:1;stroke-width:1;stroke-linecap:butt;stroke-linejoin:miter;stroke:rgb(0%,0%,0%);stroke-opacity:1;stroke-miterlimit:10;\" d=\"M 162.472656 482.945312 C 162.472656 488.464844 157.996094 492.945312 152.472656 492.945312 C 146.953125 492.945312 142.472656 488.464844 142.472656 482.945312 C 142.472656 477.421875 146.953125 472.945312 152.472656 472.945312 C 157.996094 472.945312 162.472656 477.421875 162.472656 482.945312 \"/>\n",
       "<path style=\"fill-rule:nonzero;fill:rgb(12.156863%,46.666667%,70.588235%);fill-opacity:1;stroke-width:1;stroke-linecap:butt;stroke-linejoin:miter;stroke:rgb(0%,0%,0%);stroke-opacity:1;stroke-miterlimit:10;\" d=\"M 247.789062 466.75 C 247.789062 472.273438 243.3125 476.75 237.789062 476.75 C 232.265625 476.75 227.789062 472.273438 227.789062 466.75 C 227.789062 461.226562 232.265625 456.75 237.789062 456.75 C 243.3125 456.75 247.789062 461.226562 247.789062 466.75 \"/>\n",
       "<path style=\"fill-rule:nonzero;fill:rgb(12.156863%,46.666667%,70.588235%);fill-opacity:1;stroke-width:1;stroke-linecap:butt;stroke-linejoin:miter;stroke:rgb(0%,0%,0%);stroke-opacity:1;stroke-miterlimit:10;\" d=\"M 228.40625 284.226562 C 228.40625 289.75 223.929688 294.226562 218.40625 294.226562 C 212.882812 294.226562 208.40625 289.75 208.40625 284.226562 C 208.40625 278.703125 212.882812 274.226562 218.40625 274.226562 C 223.929688 274.226562 228.40625 278.703125 228.40625 284.226562 \"/>\n",
       "<path style=\"fill-rule:nonzero;fill:rgb(17.254902%,62.745098%,17.254902%);fill-opacity:1;stroke-width:1;stroke-linecap:butt;stroke-linejoin:miter;stroke:rgb(0%,0%,0%);stroke-opacity:1;stroke-miterlimit:10;\" d=\"M 151.710938 59.867188 C 151.710938 65.390625 147.234375 69.867188 141.710938 69.867188 C 136.1875 69.867188 131.710938 65.390625 131.710938 59.867188 C 131.710938 54.34375 136.1875 49.867188 141.710938 49.867188 C 147.234375 49.867188 151.710938 54.34375 151.710938 59.867188 \"/>\n",
       "<path style=\"fill-rule:nonzero;fill:rgb(17.254902%,62.745098%,17.254902%);fill-opacity:1;stroke-width:1;stroke-linecap:butt;stroke-linejoin:miter;stroke:rgb(0%,0%,0%);stroke-opacity:1;stroke-miterlimit:10;\" d=\"M 53.128906 116.257812 C 53.128906 121.78125 48.648438 126.257812 43.128906 126.257812 C 37.605469 126.257812 33.128906 121.78125 33.128906 116.257812 C 33.128906 110.734375 37.605469 106.257812 43.128906 106.257812 C 48.648438 106.257812 53.128906 110.734375 53.128906 116.257812 \"/>\n",
       "<path style=\"fill-rule:nonzero;fill:rgb(100%,49.803922%,5.490196%);fill-opacity:1;stroke-width:1;stroke-linecap:butt;stroke-linejoin:miter;stroke:rgb(0%,0%,0%);stroke-opacity:1;stroke-miterlimit:10;\" d=\"M 456.917969 580 C 456.917969 585.523438 452.4375 590 446.917969 590 C 441.394531 590 436.917969 585.523438 436.917969 580 C 436.917969 574.476562 441.394531 570 446.917969 570 C 452.4375 570 456.917969 574.476562 456.917969 580 \"/>\n",
       "<path style=\"fill-rule:nonzero;fill:rgb(12.156863%,46.666667%,70.588235%);fill-opacity:1;stroke-width:1;stroke-linecap:butt;stroke-linejoin:miter;stroke:rgb(0%,0%,0%);stroke-opacity:1;stroke-miterlimit:10;\" d=\"M 65.621094 407.054688 C 65.621094 412.578125 61.144531 417.054688 55.621094 417.054688 C 50.097656 417.054688 45.621094 412.578125 45.621094 407.054688 C 45.621094 401.535156 50.097656 397.054688 55.621094 397.054688 C 61.144531 397.054688 65.621094 401.535156 65.621094 407.054688 \"/>\n",
       "<path style=\"fill-rule:nonzero;fill:rgb(17.254902%,62.745098%,17.254902%);fill-opacity:1;stroke-width:1;stroke-linecap:butt;stroke-linejoin:miter;stroke:rgb(0%,0%,0%);stroke-opacity:1;stroke-miterlimit:10;\" d=\"M 30 153.472656 C 30 158.996094 25.523438 163.472656 20 163.472656 C 14.476562 163.472656 10 158.996094 10 153.472656 C 10 147.949219 14.476562 143.472656 20 143.472656 C 25.523438 143.472656 30 147.949219 30 153.472656 \"/>\n",
       "<path style=\"fill-rule:nonzero;fill:rgb(12.156863%,46.666667%,70.588235%);fill-opacity:1;stroke-width:1;stroke-linecap:butt;stroke-linejoin:miter;stroke:rgb(0%,0%,0%);stroke-opacity:1;stroke-miterlimit:10;\" d=\"M 132.023438 284.070312 C 132.023438 289.59375 127.546875 294.070312 122.023438 294.070312 C 116.503906 294.070312 112.023438 289.59375 112.023438 284.070312 C 112.023438 278.546875 116.503906 274.070312 122.023438 274.070312 C 127.546875 274.070312 132.023438 278.546875 132.023438 284.070312 \"/>\n",
       "<path style=\"fill-rule:nonzero;fill:rgb(17.254902%,62.745098%,17.254902%);fill-opacity:1;stroke-width:1;stroke-linecap:butt;stroke-linejoin:miter;stroke:rgb(0%,0%,0%);stroke-opacity:1;stroke-miterlimit:10;\" d=\"M 94.390625 83.648438 C 94.390625 89.171875 89.914062 93.648438 84.390625 93.648438 C 78.867188 93.648438 74.390625 89.171875 74.390625 83.648438 C 74.390625 78.128906 78.867188 73.648438 84.390625 73.648438 C 89.914062 73.648438 94.390625 78.128906 94.390625 83.648438 \"/>\n",
       "<path style=\"fill-rule:nonzero;fill:rgb(12.156863%,46.666667%,70.588235%);fill-opacity:1;stroke-width:1;stroke-linecap:butt;stroke-linejoin:miter;stroke:rgb(0%,0%,0%);stroke-opacity:1;stroke-miterlimit:10;\" d=\"M 111.621094 436.207031 C 111.621094 441.730469 107.144531 446.207031 101.621094 446.207031 C 96.097656 446.207031 91.621094 441.730469 91.621094 436.207031 C 91.621094 430.683594 96.097656 426.207031 101.621094 426.207031 C 107.144531 426.207031 111.621094 430.683594 111.621094 436.207031 \"/>\n",
       "<path style=\"fill-rule:nonzero;fill:rgb(17.254902%,62.745098%,17.254902%);fill-opacity:1;stroke-width:1;stroke-linecap:butt;stroke-linejoin:miter;stroke:rgb(0%,0%,0%);stroke-opacity:1;stroke-miterlimit:10;\" d=\"M 223.492188 54.59375 C 223.492188 60.117188 219.015625 64.59375 213.492188 64.59375 C 207.96875 64.59375 203.492188 60.117188 203.492188 54.59375 C 203.492188 49.074219 207.96875 44.59375 213.492188 44.59375 C 219.015625 44.59375 223.492188 49.074219 223.492188 54.59375 \"/>\n",
       "<path style=\"fill-rule:nonzero;fill:rgb(83.921569%,15.294118%,15.686275%);fill-opacity:1;stroke-width:1;stroke-linecap:butt;stroke-linejoin:miter;stroke:rgb(0%,0%,0%);stroke-opacity:1;stroke-miterlimit:10;\" d=\"M 424.417969 106.957031 C 424.417969 112.476562 419.9375 116.957031 414.417969 116.957031 C 408.894531 116.957031 404.417969 112.476562 404.417969 106.957031 C 404.417969 101.433594 408.894531 96.957031 414.417969 96.957031 C 419.9375 96.957031 424.417969 101.433594 424.417969 106.957031 \"/>\n",
       "<path style=\"fill-rule:nonzero;fill:rgb(83.921569%,15.294118%,15.686275%);fill-opacity:1;stroke-width:1;stroke-linecap:butt;stroke-linejoin:miter;stroke:rgb(0%,0%,0%);stroke-opacity:1;stroke-miterlimit:10;\" d=\"M 590 186.261719 C 590 191.785156 585.523438 196.261719 580 196.261719 C 574.476562 196.261719 570 191.785156 570 186.261719 C 570 180.738281 574.476562 176.261719 580 176.261719 C 585.523438 176.261719 590 180.738281 590 186.261719 \"/>\n",
       "<path style=\"fill-rule:nonzero;fill:rgb(83.921569%,15.294118%,15.686275%);fill-opacity:1;stroke-width:1;stroke-linecap:butt;stroke-linejoin:miter;stroke:rgb(0%,0%,0%);stroke-opacity:1;stroke-miterlimit:10;\" d=\"M 574.140625 228.570312 C 574.140625 234.09375 569.664062 238.570312 564.140625 238.570312 C 558.617188 238.570312 554.140625 234.09375 554.140625 228.570312 C 554.140625 223.046875 558.617188 218.570312 564.140625 218.570312 C 569.664062 218.570312 574.140625 223.046875 574.140625 228.570312 \"/>\n",
       "<path style=\"fill-rule:nonzero;fill:rgb(17.254902%,62.745098%,17.254902%);fill-opacity:1;stroke-width:1;stroke-linecap:butt;stroke-linejoin:miter;stroke:rgb(0%,0%,0%);stroke-opacity:1;stroke-miterlimit:10;\" d=\"M 287.054688 20 C 287.054688 25.523438 282.578125 30 277.054688 30 C 271.535156 30 267.054688 25.523438 267.054688 20 C 267.054688 14.476562 271.535156 10 277.054688 10 C 282.578125 10 287.054688 14.476562 287.054688 20 \"/>\n",
       "<path style=\"fill-rule:nonzero;fill:rgb(83.921569%,15.294118%,15.686275%);fill-opacity:1;stroke-width:1;stroke-linecap:butt;stroke-linejoin:miter;stroke:rgb(0%,0%,0%);stroke-opacity:1;stroke-miterlimit:10;\" d=\"M 439.644531 182.421875 C 439.644531 187.941406 435.167969 192.421875 429.644531 192.421875 C 424.125 192.421875 419.644531 187.941406 419.644531 182.421875 C 419.644531 176.898438 424.125 172.421875 429.644531 172.421875 C 435.167969 172.421875 439.644531 176.898438 439.644531 182.421875 \"/>\n",
       "<path style=\"fill-rule:nonzero;fill:rgb(83.921569%,15.294118%,15.686275%);fill-opacity:1;stroke-width:1;stroke-linecap:butt;stroke-linejoin:miter;stroke:rgb(0%,0%,0%);stroke-opacity:1;stroke-miterlimit:10;\" d=\"M 387.964844 179.179688 C 387.964844 184.703125 383.488281 189.179688 377.964844 189.179688 C 372.441406 189.179688 367.964844 184.703125 367.964844 179.179688 C 367.964844 173.65625 372.441406 169.179688 377.964844 169.179688 C 383.488281 169.179688 387.964844 173.65625 387.964844 179.179688 \"/>\n",
       "<path style=\"fill-rule:nonzero;fill:rgb(17.254902%,62.745098%,17.254902%);fill-opacity:1;stroke-width:1;stroke-linecap:butt;stroke-linejoin:miter;stroke:rgb(0%,0%,0%);stroke-opacity:1;stroke-miterlimit:10;\" d=\"M 341.359375 68.214844 C 341.359375 73.738281 336.882812 78.214844 331.359375 78.214844 C 325.835938 78.214844 321.359375 73.738281 321.359375 68.214844 C 321.359375 62.691406 325.835938 58.214844 331.359375 58.214844 C 336.882812 58.214844 341.359375 62.691406 341.359375 68.214844 \"/>\n",
       "<path style=\"fill-rule:nonzero;fill:rgb(17.254902%,62.745098%,17.254902%);fill-opacity:1;stroke-width:1;stroke-linecap:butt;stroke-linejoin:miter;stroke:rgb(0%,0%,0%);stroke-opacity:1;stroke-miterlimit:10;\" d=\"M 80.679688 230.246094 C 80.679688 235.769531 76.203125 240.246094 70.679688 240.246094 C 65.15625 240.246094 60.679688 235.769531 60.679688 230.246094 C 60.679688 224.726562 65.15625 220.246094 70.679688 220.246094 C 76.203125 220.246094 80.679688 224.726562 80.679688 230.246094 \"/>\n",
       "<path style=\"fill-rule:nonzero;fill:rgb(83.921569%,15.294118%,15.686275%);fill-opacity:1;stroke-width:1;stroke-linecap:butt;stroke-linejoin:miter;stroke:rgb(0%,0%,0%);stroke-opacity:1;stroke-miterlimit:10;\" d=\"M 387.363281 251.421875 C 387.363281 256.945312 382.886719 261.421875 377.363281 261.421875 C 371.839844 261.421875 367.363281 256.945312 367.363281 251.421875 C 367.363281 245.898438 371.839844 241.421875 377.363281 241.421875 C 382.886719 241.421875 387.363281 245.898438 387.363281 251.421875 \"/>\n",
       "<path style=\"fill-rule:nonzero;fill:rgb(17.254902%,62.745098%,17.254902%);fill-opacity:1;stroke-width:1;stroke-linecap:butt;stroke-linejoin:miter;stroke:rgb(0%,0%,0%);stroke-opacity:1;stroke-miterlimit:10;\" d=\"M 201.835938 162.421875 C 201.835938 167.941406 197.355469 172.421875 191.835938 172.421875 C 186.3125 172.421875 181.835938 167.941406 181.835938 162.421875 C 181.835938 156.898438 186.3125 152.421875 191.835938 152.421875 C 197.355469 152.421875 201.835938 156.898438 201.835938 162.421875 \"/>\n",
       "<path style=\"fill-rule:nonzero;fill:rgb(17.254902%,62.745098%,17.254902%);fill-opacity:1;stroke-width:1;stroke-linecap:butt;stroke-linejoin:miter;stroke:rgb(0%,0%,0%);stroke-opacity:1;stroke-miterlimit:10;\" d=\"M 240.492188 155.398438 C 240.492188 160.921875 236.015625 165.398438 230.492188 165.398438 C 224.972656 165.398438 220.492188 160.921875 220.492188 155.398438 C 220.492188 149.878906 224.972656 145.398438 230.492188 145.398438 C 236.015625 145.398438 240.492188 149.878906 240.492188 155.398438 \"/>\n",
       "</g>\n",
       "</svg>\n"
      ],
      "text/plain": [
       "<igraph.drawing.cairo.plot.CairoPlot at 0x13fc64fd0>"
      ]
     },
     "execution_count": 5,
     "metadata": {
      "image/svg+xml": {
       "isolated": true
      }
     },
     "output_type": "execute_result"
    }
   ],
   "source": [
    "import seaborn as sns\n",
    "\n",
    "community_membership = communities.membership\n",
    "palette = sns.color_palette().as_hex()\n",
    "igraph.plot(g, vertex_color=[palette[i] for i in community_membership])"
   ]
  },
  {
   "cell_type": "markdown",
   "id": "49682f03",
   "metadata": {},
   "source": [
    "- `community_membership`: This is a list of community membership for each node.\n",
    "- `palette`: This is a list of colors to use for the communities.\n",
    "- `igraph.plot(g, vertex_color=[palette[i] for i in community_membership])`: This plots the graph 'g' with nodes colored by their community.\n",
    "\n",
    "### Exercise 01 🏋️‍♀️💪🧠\n",
    "\n",
    "1. Select a network of your choice from [Netzschleuder](https://networks.skewed.de/). For convenience, choose a network of nodes less than 5000.\n",
    "2. Download the csv version of the data by clicking something like \"3KiB\" under `csv` column.\n",
    "3. Unzip the file and find \"edges.csv\", open it with a text editor to familiarize yourself with the format.\n",
    "4. Load the data using `pandas`.\n",
    "5. Get the source and target nodes from the data to create an edge list.\n",
    "6. Construct a graph from the edge list, either using `igraph` or `scipy`.\n",
    "7. Find communities by maximizing the modularity and visualize them.\n",
    "8. Try at least three different values of the resolution parameter and observe how the community structure changes."
   ]
  },
  {
   "cell_type": "code",
   "execution_count": null,
   "id": "74c17512",
   "metadata": {},
   "outputs": [
    {
     "ename": "FileNotFoundError",
     "evalue": "[Errno 2] No such file or directory: '../edges.csv'",
     "output_type": "error",
     "traceback": [
      "\u001b[31m---------------------------------------------------------------------------\u001b[39m",
      "\u001b[31mFileNotFoundError\u001b[39m                         Traceback (most recent call last)",
      "\u001b[36mCell\u001b[39m\u001b[36m \u001b[39m\u001b[32mIn[6]\u001b[39m\u001b[32m, line 5\u001b[39m\n\u001b[32m      2\u001b[39m \u001b[38;5;28;01mimport\u001b[39;00m\u001b[38;5;250m \u001b[39m\u001b[34;01mpandas\u001b[39;00m\u001b[38;5;250m \u001b[39m\u001b[38;5;28;01mas\u001b[39;00m\u001b[38;5;250m \u001b[39m\u001b[34;01mpd\u001b[39;00m\n\u001b[32m      4\u001b[39m \u001b[38;5;66;03m# Load the data\u001b[39;00m\n\u001b[32m----> \u001b[39m\u001b[32m5\u001b[39m df = pd.read_csv(\n\u001b[32m      6\u001b[39m     \u001b[33m\"\u001b[39m\u001b[33m../edges.csv\u001b[39m\u001b[33m\"\u001b[39m, \u001b[38;5;66;03m# filename\u001b[39;00m\n\u001b[32m      7\u001b[39m     header=\u001b[38;5;28;01mNone\u001b[39;00m, \u001b[38;5;66;03m# no header\u001b[39;00m\n\u001b[32m      8\u001b[39m     usecols=[\u001b[32m0\u001b[39m, \u001b[32m1\u001b[39m], \u001b[38;5;66;03m# use columns 0 and 1\u001b[39;00m\n\u001b[32m      9\u001b[39m     names=[\u001b[33m\"\u001b[39m\u001b[33msrc\u001b[39m\u001b[33m\"\u001b[39m, \u001b[33m\"\u001b[39m\u001b[33mtrg\u001b[39m\u001b[33m\"\u001b[39m], \u001b[38;5;66;03m# name the columns\u001b[39;00m\n\u001b[32m     10\u001b[39m     sep=\u001b[33m\"\u001b[39m\u001b[33m,\u001b[39m\u001b[33m\"\u001b[39m, \u001b[38;5;66;03m# comma-separated\u001b[39;00m\n\u001b[32m     11\u001b[39m     skiprows=\u001b[32m1\u001b[39m, \u001b[38;5;66;03m# skip the first row\u001b[39;00m\n\u001b[32m     12\u001b[39m )\n\u001b[32m     14\u001b[39m \u001b[38;5;66;03m# Get the source and target nodes\u001b[39;00m\n\u001b[32m     15\u001b[39m src, trg = \u001b[38;5;28mtuple\u001b[39m(df.values.T)\n",
      "\u001b[36mFile \u001b[39m\u001b[32m~/miniforge3/envs/advnetsci/lib/python3.11/site-packages/pandas/io/parsers/readers.py:1026\u001b[39m, in \u001b[36mread_csv\u001b[39m\u001b[34m(filepath_or_buffer, sep, delimiter, header, names, index_col, usecols, dtype, engine, converters, true_values, false_values, skipinitialspace, skiprows, skipfooter, nrows, na_values, keep_default_na, na_filter, verbose, skip_blank_lines, parse_dates, infer_datetime_format, keep_date_col, date_parser, date_format, dayfirst, cache_dates, iterator, chunksize, compression, thousands, decimal, lineterminator, quotechar, quoting, doublequote, escapechar, comment, encoding, encoding_errors, dialect, on_bad_lines, delim_whitespace, low_memory, memory_map, float_precision, storage_options, dtype_backend)\u001b[39m\n\u001b[32m   1013\u001b[39m kwds_defaults = _refine_defaults_read(\n\u001b[32m   1014\u001b[39m     dialect,\n\u001b[32m   1015\u001b[39m     delimiter,\n\u001b[32m   (...)\u001b[39m\u001b[32m   1022\u001b[39m     dtype_backend=dtype_backend,\n\u001b[32m   1023\u001b[39m )\n\u001b[32m   1024\u001b[39m kwds.update(kwds_defaults)\n\u001b[32m-> \u001b[39m\u001b[32m1026\u001b[39m \u001b[38;5;28;01mreturn\u001b[39;00m _read(filepath_or_buffer, kwds)\n",
      "\u001b[36mFile \u001b[39m\u001b[32m~/miniforge3/envs/advnetsci/lib/python3.11/site-packages/pandas/io/parsers/readers.py:620\u001b[39m, in \u001b[36m_read\u001b[39m\u001b[34m(filepath_or_buffer, kwds)\u001b[39m\n\u001b[32m    617\u001b[39m _validate_names(kwds.get(\u001b[33m\"\u001b[39m\u001b[33mnames\u001b[39m\u001b[33m\"\u001b[39m, \u001b[38;5;28;01mNone\u001b[39;00m))\n\u001b[32m    619\u001b[39m \u001b[38;5;66;03m# Create the parser.\u001b[39;00m\n\u001b[32m--> \u001b[39m\u001b[32m620\u001b[39m parser = TextFileReader(filepath_or_buffer, **kwds)\n\u001b[32m    622\u001b[39m \u001b[38;5;28;01mif\u001b[39;00m chunksize \u001b[38;5;129;01mor\u001b[39;00m iterator:\n\u001b[32m    623\u001b[39m     \u001b[38;5;28;01mreturn\u001b[39;00m parser\n",
      "\u001b[36mFile \u001b[39m\u001b[32m~/miniforge3/envs/advnetsci/lib/python3.11/site-packages/pandas/io/parsers/readers.py:1620\u001b[39m, in \u001b[36mTextFileReader.__init__\u001b[39m\u001b[34m(self, f, engine, **kwds)\u001b[39m\n\u001b[32m   1617\u001b[39m     \u001b[38;5;28mself\u001b[39m.options[\u001b[33m\"\u001b[39m\u001b[33mhas_index_names\u001b[39m\u001b[33m\"\u001b[39m] = kwds[\u001b[33m\"\u001b[39m\u001b[33mhas_index_names\u001b[39m\u001b[33m\"\u001b[39m]\n\u001b[32m   1619\u001b[39m \u001b[38;5;28mself\u001b[39m.handles: IOHandles | \u001b[38;5;28;01mNone\u001b[39;00m = \u001b[38;5;28;01mNone\u001b[39;00m\n\u001b[32m-> \u001b[39m\u001b[32m1620\u001b[39m \u001b[38;5;28mself\u001b[39m._engine = \u001b[38;5;28mself\u001b[39m._make_engine(f, \u001b[38;5;28mself\u001b[39m.engine)\n",
      "\u001b[36mFile \u001b[39m\u001b[32m~/miniforge3/envs/advnetsci/lib/python3.11/site-packages/pandas/io/parsers/readers.py:1880\u001b[39m, in \u001b[36mTextFileReader._make_engine\u001b[39m\u001b[34m(self, f, engine)\u001b[39m\n\u001b[32m   1878\u001b[39m     \u001b[38;5;28;01mif\u001b[39;00m \u001b[33m\"\u001b[39m\u001b[33mb\u001b[39m\u001b[33m\"\u001b[39m \u001b[38;5;129;01mnot\u001b[39;00m \u001b[38;5;129;01min\u001b[39;00m mode:\n\u001b[32m   1879\u001b[39m         mode += \u001b[33m\"\u001b[39m\u001b[33mb\u001b[39m\u001b[33m\"\u001b[39m\n\u001b[32m-> \u001b[39m\u001b[32m1880\u001b[39m \u001b[38;5;28mself\u001b[39m.handles = get_handle(\n\u001b[32m   1881\u001b[39m     f,\n\u001b[32m   1882\u001b[39m     mode,\n\u001b[32m   1883\u001b[39m     encoding=\u001b[38;5;28mself\u001b[39m.options.get(\u001b[33m\"\u001b[39m\u001b[33mencoding\u001b[39m\u001b[33m\"\u001b[39m, \u001b[38;5;28;01mNone\u001b[39;00m),\n\u001b[32m   1884\u001b[39m     compression=\u001b[38;5;28mself\u001b[39m.options.get(\u001b[33m\"\u001b[39m\u001b[33mcompression\u001b[39m\u001b[33m\"\u001b[39m, \u001b[38;5;28;01mNone\u001b[39;00m),\n\u001b[32m   1885\u001b[39m     memory_map=\u001b[38;5;28mself\u001b[39m.options.get(\u001b[33m\"\u001b[39m\u001b[33mmemory_map\u001b[39m\u001b[33m\"\u001b[39m, \u001b[38;5;28;01mFalse\u001b[39;00m),\n\u001b[32m   1886\u001b[39m     is_text=is_text,\n\u001b[32m   1887\u001b[39m     errors=\u001b[38;5;28mself\u001b[39m.options.get(\u001b[33m\"\u001b[39m\u001b[33mencoding_errors\u001b[39m\u001b[33m\"\u001b[39m, \u001b[33m\"\u001b[39m\u001b[33mstrict\u001b[39m\u001b[33m\"\u001b[39m),\n\u001b[32m   1888\u001b[39m     storage_options=\u001b[38;5;28mself\u001b[39m.options.get(\u001b[33m\"\u001b[39m\u001b[33mstorage_options\u001b[39m\u001b[33m\"\u001b[39m, \u001b[38;5;28;01mNone\u001b[39;00m),\n\u001b[32m   1889\u001b[39m )\n\u001b[32m   1890\u001b[39m \u001b[38;5;28;01massert\u001b[39;00m \u001b[38;5;28mself\u001b[39m.handles \u001b[38;5;129;01mis\u001b[39;00m \u001b[38;5;129;01mnot\u001b[39;00m \u001b[38;5;28;01mNone\u001b[39;00m\n\u001b[32m   1891\u001b[39m f = \u001b[38;5;28mself\u001b[39m.handles.handle\n",
      "\u001b[36mFile \u001b[39m\u001b[32m~/miniforge3/envs/advnetsci/lib/python3.11/site-packages/pandas/io/common.py:873\u001b[39m, in \u001b[36mget_handle\u001b[39m\u001b[34m(path_or_buf, mode, encoding, compression, memory_map, is_text, errors, storage_options)\u001b[39m\n\u001b[32m    868\u001b[39m \u001b[38;5;28;01melif\u001b[39;00m \u001b[38;5;28misinstance\u001b[39m(handle, \u001b[38;5;28mstr\u001b[39m):\n\u001b[32m    869\u001b[39m     \u001b[38;5;66;03m# Check whether the filename is to be opened in binary mode.\u001b[39;00m\n\u001b[32m    870\u001b[39m     \u001b[38;5;66;03m# Binary mode does not support 'encoding' and 'newline'.\u001b[39;00m\n\u001b[32m    871\u001b[39m     \u001b[38;5;28;01mif\u001b[39;00m ioargs.encoding \u001b[38;5;129;01mand\u001b[39;00m \u001b[33m\"\u001b[39m\u001b[33mb\u001b[39m\u001b[33m\"\u001b[39m \u001b[38;5;129;01mnot\u001b[39;00m \u001b[38;5;129;01min\u001b[39;00m ioargs.mode:\n\u001b[32m    872\u001b[39m         \u001b[38;5;66;03m# Encoding\u001b[39;00m\n\u001b[32m--> \u001b[39m\u001b[32m873\u001b[39m         handle = \u001b[38;5;28mopen\u001b[39m(\n\u001b[32m    874\u001b[39m             handle,\n\u001b[32m    875\u001b[39m             ioargs.mode,\n\u001b[32m    876\u001b[39m             encoding=ioargs.encoding,\n\u001b[32m    877\u001b[39m             errors=errors,\n\u001b[32m    878\u001b[39m             newline=\u001b[33m\"\u001b[39m\u001b[33m\"\u001b[39m,\n\u001b[32m    879\u001b[39m         )\n\u001b[32m    880\u001b[39m     \u001b[38;5;28;01melse\u001b[39;00m:\n\u001b[32m    881\u001b[39m         \u001b[38;5;66;03m# Binary mode\u001b[39;00m\n\u001b[32m    882\u001b[39m         handle = \u001b[38;5;28mopen\u001b[39m(handle, ioargs.mode)\n",
      "\u001b[31mFileNotFoundError\u001b[39m: [Errno 2] No such file or directory: '../edges.csv'"
     ]
    }
   ],
   "source": [
    "# Your code here\n",
    "import pandas as pd\n",
    "\n",
    "# Load the data\n",
    "df = pd.read_csv(\n",
    "    \"../edges.csv\",  # filename\n",
    "    header=None,  # no header\n",
    "    usecols=[0, 1],  # use columns 0 and 1\n",
    "    names=[\"src\", \"trg\"],  # name the columns\n",
    "    sep=\",\",  # comma-separated\n",
    "    skiprows=1,  # skip the first row\n",
    ")\n",
    "\n",
    "# Get the source and target nodes\n",
    "src, trg = tuple(df.values.T)\n",
    "\n",
    "# Construct a graph\n",
    "g = igraph.Graph.TupleList([(src[i], trg[i]) for i in range(len(src))], directed=False)\n",
    "g = g.clusters().giant()\n",
    "\n",
    "\n",
    "# Find communities by maximizing the modularity\n",
    "communities = g.community_leiden(resolution=1, objective_function=\"modularity\")\n",
    "\n",
    "# Create a color palette\n",
    "palette = sns.color_palette(\"tab20\").as_hex()\n",
    "\n",
    "# Map the community membership to colors\n",
    "color_map = [palette[i] if i < len(palette) else \"gray\" for i in communities.membership]\n",
    "\n",
    "# Plot the graph with nodes colored by their community\n",
    "igraph.plot(g, vertex_size=20, vertex_color=color_map)"
   ]
  },
  {
   "cell_type": "code",
   "execution_count": null,
   "id": "e96f1aa4",
   "metadata": {},
   "outputs": [],
   "source": []
  },
  {
   "cell_type": "markdown",
   "id": "81cdc5c4",
   "metadata": {},
   "source": [
    "## Stochstic Block Model\n",
    "\n",
    "Let us turn the SBM as our community detection tool using [graph-tool](https://graph-tool.skewed.de/). This is a powerful library for network analysis, with a focus on the stochastic block model."
   ]
  },
  {
   "cell_type": "code",
   "execution_count": null,
   "id": "07120d49",
   "metadata": {},
   "outputs": [],
   "source": [
    "#\n",
    "# Uncomment the following code if you are using Google Colab\n",
    "#\n",
    "#!wget https://downloads.skewed.de/skewed-keyring/skewed-keyring_1.0_all_$(lsb_release -s -c).deb\n",
    "#!dpkg -i skewed-keyring_1.0_all_$(lsb_release -s -c).deb\n",
    "#!echo \"deb [signed-by=/usr/share/keyrings/skewed-keyring.gpg] https://downloads.skewed.de/apt $(lsb_release -s -c) main\" > /etc/apt/sources.list.d/skewed.list\n",
    "#!apt-get update\n",
    "#!apt-get install python3-graph-tool python3-matplotlib python3-cairo\n",
    "#!apt purge python3-cairo\n",
    "#!apt install libcairo2-dev pkg-config python3-dev\n",
    "#!pip install --force-reinstall pycairo\n",
    "#!pip install zstandard"
   ]
  },
  {
   "cell_type": "markdown",
   "id": "dd3f9121",
   "metadata": {},
   "source": [
    "We will identify the communities using the stochastic block model as follows.\n",
    "First, we will convert the graph object in igraph to that in graph-tool."
   ]
  },
  {
   "cell_type": "code",
   "execution_count": null,
   "id": "d273011f",
   "metadata": {},
   "outputs": [],
   "source": [
    "import graph_tool.all as gt\n",
    "import numpy as np\n",
    "import igraph\n",
    "\n",
    "# igraph object\n",
    "g = igraph.Graph.Famous(\"Zachary\")\n",
    "\n",
    "# Set random seed for reproducibility\n",
    "np.random.seed(42)\n",
    "\n",
    "# Convert the graph object in igraph to that in graph-tool\n",
    "edges = g.get_edgelist()\n",
    "r, c = zip(*edges)\n",
    "g_gt = gt.Graph(directed=False)\n",
    "g_gt.add_edge_list(np.vstack([r, c]).T)"
   ]
  },
  {
   "cell_type": "markdown",
   "id": "53956e13",
   "metadata": {},
   "source": [
    "Then, we will fit the stochastic block model to the graph."
   ]
  },
  {
   "cell_type": "code",
   "execution_count": null,
   "id": "4c019a8a",
   "metadata": {},
   "outputs": [],
   "source": [
    "# Fit the stochastic block model\n",
    "state = gt.minimize_blockmodel_dl(\n",
    "    g_gt,\n",
    "    state_args={\"deg_corr\": False, \"B_min\": 2, \"B_max\": 10},\n",
    ")\n",
    "b = state.get_blocks()"
   ]
  },
  {
   "cell_type": "markdown",
   "id": "f441aeaa",
   "metadata": {},
   "source": [
    "- `B_min` and `B_max` are the minimum and maximum number of communities to consider.\n",
    "- `deg_corr` is a boolean flag to switch to the degree-corrected SBM {footcite}`karrer2011stochastic`.\n",
    "\n",
    "\n",
    "```{note}\n",
    "Here's a fun fact: the likelihood maximization on its own can't figure out how many communities there should be. But `graph-tool` has a clever trick to circumvent this limitation.\n",
    "`graph-tool` actually fits multiple SBMs, each with a different number of communities. Then, it picks the most plausible one based on a model selection criterion.\n",
    "```\n",
    "\n",
    "Let's visualize the communities to see what we got."
   ]
  },
  {
   "cell_type": "code",
   "execution_count": null,
   "id": "a6a6afee",
   "metadata": {
    "tags": [
     "hide-input"
    ]
   },
   "outputs": [],
   "source": [
    "# Convert the block assignments to a list\n",
    "community_membership = b.get_array()\n",
    "\n",
    "# The community labels may consist of non-consecutive integers, e.g., 10, 8, 1, 4, ...\n",
    "# So we reassign the community labels to be 0, 1, 2, ...\n",
    "community_membership = np.unique(community_membership, return_inverse=True)[1]\n",
    "community_membership"
   ]
  },
  {
   "cell_type": "code",
   "execution_count": null,
   "id": "583801ad",
   "metadata": {},
   "outputs": [],
   "source": [
    "# Create a color palette\n",
    "import matplotlib.pyplot as plt\n",
    "import seaborn as sns\n",
    "\n",
    "palette = sns.color_palette().as_hex()\n",
    "# Plot the graph with nodes colored by their community\n",
    "fig, ax = plt.subplots(figsize=(10, 8))\n",
    "igraph.plot(\n",
    "    g,\n",
    "    target=ax,\n",
    "    vertex_color=[palette[i] for i in community_membership],\n",
    ")\n",
    "plt.axis(\"off\")\n",
    "plt.tight_layout()\n",
    "plt.show()"
   ]
  },
  {
   "cell_type": "markdown",
   "id": "7e1d68af",
   "metadata": {},
   "source": [
    "What we're seeing here isn't a failure at all. In fact, it's the best partition according to our stochastic block model. The model has discovered something called a **core-periphery structure** {footcite}`borgatti2000models`. Let me break that down:\n",
    "\n",
    "- Think of a major international airport (the core) and smaller regional airports (the periphery).\n",
    "- Major international airports have many flights connecting to each other (densely connected).\n",
    "- Smaller regional airports have fewer connections among themselves (sparsely connected).\n",
    "- Many regional airports have flights to major hubs (periphery connected to the core).\n",
    "\n",
    "That's exactly what our model found in this network.\n",
    "\n",
    "If we look at the adjacency matrix, we would see something that looks like an upside-down \"L\". This shape is like a signature for core-periphery structures."
   ]
  },
  {
   "cell_type": "code",
   "execution_count": null,
   "id": "7da0fe9a",
   "metadata": {},
   "outputs": [],
   "source": [
    "# Convert igraph Graph to adjacency matrix\n",
    "A = np.array(g.get_adjacency().data)\n",
    "\n",
    "# Sort nodes based on their community (core first, then periphery)\n",
    "sorted_indices = np.argsort(community_membership)\n",
    "A_sorted = A[sorted_indices][:, sorted_indices]\n",
    "\n",
    "# Plot the sorted adjacency matrix\n",
    "plt.figure(figsize=(10, 8))\n",
    "plt.imshow(A_sorted, cmap=\"binary\")\n",
    "plt.title(\"Sorted Adjacency Matrix: Core-Periphery Structure\")\n",
    "plt.xlabel(\"Node Index (sorted)\")\n",
    "plt.ylabel(\"Node Index (sorted)\")\n",
    "\n",
    "plt.tight_layout()\n",
    "plt.show()"
   ]
  },
  {
   "cell_type": "markdown",
   "id": "594b60f4",
   "metadata": {},
   "source": [
    "### Exercise 02 🏋️‍♀️💪🧠\n",
    "\n",
    "1. Select a network of your choice from [Netzschleuder](https://networks.skewed.de/). For convenience, choose a network of nodes less than 5000.\n",
    "2. Download the csv version of the data by clicking something like \"3KiB\" under `csv` column.\n",
    "3. Unzip the file and find \"edges.csv\", open it with a text editor to familiarize yourself with the format.\n",
    "4. Load the data using `pandas`.\n",
    "5. Get the source and target nodes from the data to create an edge list.\n",
    "6. Construct a graph from the edge list, either using `igraph` or `scipy`.\n",
    "7. Find communities by fitting the stochastic block model and visualize them.\n",
    "8. Try `deg_corr=True` and compare the results with those from `deg_corr=False`.\n",
    "\n",
    "```{footbibliography}\n",
    "```"
   ]
  },
  {
   "cell_type": "code",
   "execution_count": null,
   "id": "6fa5b48b",
   "metadata": {},
   "outputs": [],
   "source": [
    "import graph_tool.all as gt\n",
    "import numpy as np\n",
    "import igraph\n",
    "\n",
    "# igraph object\n",
    "# Your code here\n",
    "import pandas as pd\n",
    "\n",
    "# Load the data\n",
    "df = pd.read_csv(\n",
    "    \"../edges.csv\",  # filename\n",
    "    header=None,  # no header\n",
    "    usecols=[0, 1],  # use columns 0 and 1\n",
    "    names=[\"src\", \"trg\"],  # name the columns\n",
    "    sep=\",\",  # comma-separated\n",
    "    skiprows=1,  # skip the first row\n",
    ")\n",
    "\n",
    "# Get the source and target nodes\n",
    "src, trg = tuple(df.values.T)\n",
    "\n",
    "# Construct a graph\n",
    "g = igraph.Graph.TupleList([(src[i], trg[i]) for i in range(len(src))], directed=False)\n",
    "g = g.clusters().giant()\n",
    "\n",
    "\n",
    "# Set random seed for reproducibility\n",
    "np.random.seed(42)\n",
    "\n",
    "# Convert the graph object in igraph to that in graph-tool\n",
    "edges = g.get_edgelist()\n",
    "r, c = zip(*edges)\n",
    "g_gt = gt.Graph(directed=False)\n",
    "g_gt.add_edge_list(np.vstack([r, c]).T)\n",
    "\n",
    "# Fit the stochastic block model\n",
    "state = gt.minimize_blockmodel_dl(\n",
    "    g_gt,\n",
    "    state_args={\"deg_corr\": False, \"B_min\": 2, \"B_max\": 10},\n",
    ")\n",
    "b = state.get_blocks()\n",
    "\n",
    "# Create a color palette\n",
    "import matplotlib.pyplot as plt\n",
    "import seaborn as sns\n",
    "\n",
    "palette = sns.color_palette().as_hex()\n",
    "# Plot the graph with nodes colored by their community\n",
    "fig, ax = plt.subplots(figsize=(10, 8))\n",
    "igraph.plot(\n",
    "    g,\n",
    "    target=ax,\n",
    "    vertex_color=[palette[i] for i in community_membership],\n",
    ")\n",
    "plt.axis(\"off\")\n",
    "plt.tight_layout()\n",
    "plt.show()"
   ]
  },
  {
   "cell_type": "code",
   "execution_count": null,
   "id": "94d479ca",
   "metadata": {},
   "outputs": [],
   "source": [
    "# Fit the stochastic block model\n",
    "state = gt.minimize_nested_blockmodel_dl(\n",
    "    g_gt,\n",
    "    state_args={\"deg_corr\": True, \"B_min\": 2, \"B_max\": 10},\n",
    ")\n",
    "state.draw()"
   ]
  },
  {
   "cell_type": "code",
   "execution_count": null,
   "id": "09a9d9b8",
   "metadata": {},
   "outputs": [],
   "source": [
    "# Fit the stochastic block model\n",
    "state = gt.minimize_nested_blockmodel_dl(\n",
    "    g_gt,\n",
    "    state_args={\"deg_corr\": False, \"B_min\": 2, \"B_max\": 10},\n",
    ")\n",
    "state.draw()"
   ]
  },
  {
   "cell_type": "code",
   "execution_count": null,
   "id": "713fc2ae",
   "metadata": {},
   "outputs": [],
   "source": []
  }
 ],
 "metadata": {
  "jupytext": {
   "cell_metadata_filter": "-all"
  },
  "kernelspec": {
   "display_name": "advnetsci",
   "language": "python",
   "name": "python3"
  },
  "language_info": {
   "codemirror_mode": {
    "name": "ipython",
    "version": 3
   },
   "file_extension": ".py",
   "mimetype": "text/x-python",
   "name": "python",
   "nbconvert_exporter": "python",
   "pygments_lexer": "ipython3",
   "version": "3.11.0"
  }
 },
 "nbformat": 4,
 "nbformat_minor": 5
}
