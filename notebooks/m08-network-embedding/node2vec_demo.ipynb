{
  "cells": [
    {
      "cell_type": "markdown",
      "metadata": {
        "colab_type": "text",
        "id": "view-in-github"
      },
      "source": [
        "<a href=\"https://colab.research.google.com/github/skojaku/adv-net-sci/blob/main/notebooks/m08-network-embedding/node2vec_demo.ipynb\" target=\"_parent\"><img src=\"https://colab.research.google.com/assets/colab-badge.svg\" alt=\"Open In Colab\"/></a>"
      ]
    },
    {
      "cell_type": "code",
      "execution_count": null,
      "metadata": {
        "id": "GsP-eoVhoy0f"
      },
      "outputs": [],
      "source": [
        "!pip install git+https://github.com/skojaku/fastnode2vec.git\n",
        "# Using pip (with plotting support)\n",
        "!pip install igraph cairocffi pycairo python-igraph"
      ]
    },
    {
      "cell_type": "code",
      "execution_count": null,
      "metadata": {
        "id": "65ac04f9"
      },
      "outputs": [],
      "source": [
        "import gensim\n",
        "import igraph as ig\n",
        "import numpy as np\n",
        "import matplotlib.pyplot as plt\n",
        "import seaborn as sns"
      ]
    },
    {
      "cell_type": "code",
      "execution_count": null,
      "metadata": {
        "id": "YRkbg1EirVau"
      },
      "outputs": [],
      "source": [
        "# Load the karate club network\n",
        "g = ig.Graph.Famous(\"Zachary\")\n",
        "A = g.get_adjacency_sparse()\n",
        "\n",
        "# Get community labels (Mr. Hi = 0, Officer = 1)\n",
        "labels = np.array(\n",
        "    [\n",
        "        0,\n",
        "        0,\n",
        "        0,\n",
        "        0,\n",
        "        0,\n",
        "        0,\n",
        "        0,\n",
        "        0,\n",
        "        1,\n",
        "        1,\n",
        "        0,\n",
        "        0,\n",
        "        0,\n",
        "        0,\n",
        "        1,\n",
        "        1,\n",
        "        0,\n",
        "        0,\n",
        "        1,\n",
        "        0,\n",
        "        1,\n",
        "        0,\n",
        "        1,\n",
        "        1,\n",
        "        1,\n",
        "        1,\n",
        "        1,\n",
        "        1,\n",
        "        1,\n",
        "        1,\n",
        "        1,\n",
        "        1,\n",
        "        1,\n",
        "        1,\n",
        "    ]\n",
        ")\n",
        "g.vs[\"label\"] = labels\n",
        "\n",
        "# Visualize the network\n",
        "palette = sns.color_palette().as_hex()\n",
        "ig.plot(g, vertex_color=[palette[label] for label in labels], bbox=(300, 300))"
      ]
    },
    {
      "cell_type": "code",
      "execution_count": null,
      "metadata": {
        "id": "h44XFoKOpO_E"
      },
      "outputs": [],
      "source": [
        "emb = ..."
      ]
    },
    {
      "cell_type": "code",
      "execution_count": null,
      "metadata": {
        "id": "l6CWUILjpYPk"
      },
      "outputs": [],
      "source": [
        "emb"
      ]
    },
    {
      "cell_type": "code",
      "execution_count": null,
      "metadata": {
        "id": "tVBMO0SjqHim"
      },
      "outputs": [],
      "source": [
        "from sklearn.decomposition import PCA\n",
        "\n",
        "pca = PCA(n_components=2)\n",
        "xy = pca.fit_transform(emb)\n",
        "\n",
        "sns.set_style(\"white\")\n",
        "fig, ax = plt.subplots(figsize=(5, 5))\n",
        "ax = sns.scatterplot(x=xy[:, 0], y=xy[:, 1], s=100, hue=labels)\n",
        "ax.set_xticks([])\n",
        "ax.set_yticks([])\n",
        "sns.despine()"
      ]
    },
    {
      "cell_type": "code",
      "execution_count": null,
      "metadata": {
        "id": "L78HaB9kqt8j"
      },
      "outputs": [],
      "source": [
        "from sklearn.cluster import KMeans\n",
        "\n",
        "kmeans = KMeans(n_clusters=3, random_state=0).fit(emb)\n",
        "detected_labels = kmeans.labels_\n",
        "\n",
        "# Visualize the network\n",
        "palette = sns.color_palette().as_hex()\n",
        "ig.plot(\n",
        "    g,\n",
        "    vertex_color=[palette[label] for label in detected_labels],\n",
        "    vertex_label=list(labels),\n",
        "    bbox=(300, 300),\n",
        ")"
      ]
    },
    {
      "cell_type": "code",
      "execution_count": null,
      "metadata": {
        "id": "HiSPRxVgsQWA"
      },
      "outputs": [],
      "source": [
        "import networkx as nx\n",
        "\n",
        "h = ig.Graph.from_networkx(nx.les_miserables_graph())\n",
        "A_lesmis = h.get_adjacency_sparse()"
      ]
    }
  ],
  "metadata": {
    "colab": {
      "authorship_tag": "ABX9TyNBXXKEgjNJ4QV3bFum17kf",
      "include_colab_link": true,
      "private_outputs": true,
      "provenance": []
    },
    "kernelspec": {
      "display_name": "Python 3",
      "name": "python3"
    },
    "language_info": {
      "name": "python"
    }
  },
  "nbformat": 4,
  "nbformat_minor": 0
}
