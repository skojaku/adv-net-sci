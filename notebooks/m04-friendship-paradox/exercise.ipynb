{
 "cells": [
  {
   "cell_type": "markdown",
   "id": "21b34fe9",
   "metadata": {},
   "source": [
    "<a target=\"_blank\" href=\"https://colab.research.google.com/github/skojaku/adv-net-sci/blob/main/notebooks/m04-friendship-paradox/exercise.ipynb\">\n",
    "  <img src=\"https://colab.research.google.com/assets/colab-badge.svg\" alt=\"Open In Colab\"/>\n",
    "</a>"
   ]
  },
  {
   "cell_type": "code",
   "execution_count": null,
   "id": "f55f82ae",
   "metadata": {},
   "outputs": [],
   "source": [
    "# If you are using Google Colab, uncomment the following line to install igraph\n",
    "# !sudo apt install libcairo2-dev pkg-config python3-dev\n",
    "# !pip install pycairo cairocffi\n",
    "# !pip install igraph"
   ]
  },
  {
   "cell_type": "code",
   "execution_count": null,
   "id": "4ff6f2ab",
   "metadata": {},
   "outputs": [],
   "source": [
    "import igraph\n",
    "import numpy as np\n",
    "import seaborn as sns\n",
    "import matplotlib.pyplot as plt"
   ]
  },
  {
   "cell_type": "markdown",
   "id": "d3c518d6",
   "metadata": {},
   "source": [
    "# Hands-on: Degree Distribution \n",
    "\n",
    "Let's create a degree-heterogeneous network, Barabasi-Albert network."
   ]
  },
  {
   "cell_type": "code",
   "execution_count": null,
   "id": "751a9421",
   "metadata": {},
   "outputs": [],
   "source": [
    "g = igraph.Graph.Barabasi(n=3000, m=10)"
   ]
  },
  {
   "cell_type": "markdown",
   "id": "66d88bf9",
   "metadata": {},
   "source": [
    "Let's compute the degree of each node. You can use `Graph.degree` to get the degree of each node, or alternatively compute it from the adjacency matrix (via `Graph.get_adjacency`)."
   ]
  },
  {
   "cell_type": "code",
   "execution_count": null,
   "id": "4518129a",
   "metadata": {},
   "outputs": [],
   "source": [
    "degree = g.degree()\n",
    "\n",
    "# Alternatively, you can compute the degree from the adjacency matrix by\n",
    "#A = g.get_adjacency()\n",
    "#degree = np.sum(A, axis=1)"
   ]
  },
  {
   "cell_type": "markdown",
   "id": "e1dc369e",
   "metadata": {},
   "source": [
    "Let's plot the degree distribution using a simple histogram. To do that, we compute the *frequency* of each degree value.  "
   ]
  },
  {
   "cell_type": "code",
   "execution_count": null,
   "id": "11236763",
   "metadata": {},
   "outputs": [],
   "source": [
    "# Compute degree for each node\n",
    "p_deg = ..."
   ]
  },
  {
   "cell_type": "code",
   "execution_count": null,
   "id": "cfd41c8c",
   "metadata": {},
   "outputs": [],
   "source": [
    "# Plot\n",
    "fig, ax = plt.subplots(figsize=(8, 5))\n",
    "\n",
    "..."
   ]
  },
  {
   "cell_type": "markdown",
   "id": "c3c61368",
   "metadata": {},
   "source": [
    "Let's plot it in log-log scale."
   ]
  },
  {
   "cell_type": "code",
   "execution_count": null,
   "id": "e2a47ddc",
   "metadata": {},
   "outputs": [],
   "source": []
  },
  {
   "cell_type": "markdown",
   "id": "f6624149",
   "metadata": {},
   "source": [
    "Let's plot it in **Complementary Cumulative Distribution Function (CCDF)**."
   ]
  },
  {
   "cell_type": "code",
   "execution_count": null,
   "id": "89f7d1f8",
   "metadata": {},
   "outputs": [],
   "source": [
    "ccdf_deg = ... # Compute the CCDF"
   ]
  },
  {
   "cell_type": "code",
   "execution_count": null,
   "id": "ce81ab75",
   "metadata": {},
   "outputs": [],
   "source": [
    "fig, ax = plt.subplots(figsize=(8, 5))\n",
    "\n",
    "ax = sns.lineplot(x=np.arange(len(ccdf_deg)), y=ccdf_deg)\n",
    "\n",
    "ax.set_xscale('log')\n",
    "ax.set_yscale('log')\n",
    "ax.set_xlabel('Degree')\n",
    "ax.set_ylabel('CCDF')\n",
    "ax.set_title('CCDF: Smooth Power-Law Visualization')"
   ]
  },
  {
   "cell_type": "markdown",
   "id": "cd19ef50",
   "metadata": {},
   "source": [
    "`seaborn` offers a convenient function to plot the CCDF."
   ]
  },
  {
   "cell_type": "code",
   "execution_count": null,
   "id": "bfcaf1a3",
   "metadata": {},
   "outputs": [],
   "source": [
    "fig, ax = plt.subplots(figsize=(8, 5))\n",
    "ax = sns.ecdfplot(degree, complementary=True, log_scale=(True, True), ax = ax)\n",
    "\n",
    "ax.set_xlabel('Degree')\n",
    "ax.set_ylabel('CCDF')"
   ]
  },
  {
   "cell_type": "markdown",
   "id": "de28dfc5",
   "metadata": {},
   "source": [
    "## Exercise \n",
    "\n",
    "The Barabasi-Albert network is a scale-free network, which means that the degree distribution follows a power law, i.e., \n",
    "\n",
    "$$\n",
    "P(k) \\propto k^{-\\gamma}\n",
    "$$\n",
    "\n",
    "where $\\gamma$ is the power-law exponent. From the figure above, how can we estimate the power-law exponent?  Write your derivation in the markdown cell below, or hand-write it. Then, identify the power-law exponent from the plot.\n",
    "\n",
    "**Hint**:\n",
    "\n",
    "Derive the analytical form of the CCDF of the power-law distribution and fit it to the data.\n",
    "\n",
    "The CCDF is given by $F(k) = P(k' > k)$, i.e., fraction of data points that are greater than $k$. Alternatively, it can be written as\n",
    "\n",
    "$$\n",
    "F(k) = \\int_k^\\infty P(k') dk' \n",
    "$$"
   ]
  },
  {
   "cell_type": "markdown",
   "id": "b6ce6b1e",
   "metadata": {},
   "source": []
  },
  {
   "cell_type": "markdown",
   "id": "3476138d",
   "metadata": {},
   "source": [
    "## Discussion: What could be wrong? \n",
    "\n",
    "While the above method for identifying the power-law exponent is useful to understand the degree heterogeneity, it is not a good practice to use a plot as a way to identify the power-law exponent. Why?  "
   ]
  }
 ],
 "metadata": {
  "kernelspec": {
   "display_name": "advnetsci",
   "language": "python",
   "name": "python3"
  },
  "language_info": {
   "codemirror_mode": {
    "name": "ipython",
    "version": 3
   },
   "file_extension": ".py",
   "mimetype": "text/x-python",
   "name": "python",
   "nbconvert_exporter": "python",
   "pygments_lexer": "ipython3",
   "version": "3.11.0"
  }
 },
 "nbformat": 4,
 "nbformat_minor": 5
}
